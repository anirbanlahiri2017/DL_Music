{
 "cells": [
  {
   "cell_type": "code",
   "execution_count": 1,
   "metadata": {},
   "outputs": [
    {
     "name": "stderr",
     "output_type": "stream",
     "text": [
      "/home/srd/Desktop/music/venv_python3.7/lib/python3.7/site-packages/librosa/util/decorators.py:9: NumbaDeprecationWarning: An import was requested from a module that has moved location.\n",
      "Import requested from: 'numba.decorators', please update to use 'numba.core.decorators' or pin to Numba version 0.48.0. This alias will not be present in Numba version 0.50.0.\n",
      "  from numba.decorators import jit as optional_jit\n",
      "/home/srd/Desktop/music/venv_python3.7/lib/python3.7/site-packages/librosa/util/decorators.py:9: NumbaDeprecationWarning: An import was requested from a module that has moved location.\n",
      "Import of 'jit' requested from: 'numba.decorators', please update to use 'numba.core.decorators' or pin to Numba version 0.48.0. This alias will not be present in Numba version 0.50.0.\n",
      "  from numba.decorators import jit as optional_jit\n"
     ]
    }
   ],
   "source": [
    "import os\n",
    "import h5py\n",
    "import librosa\n",
    "import itertools\n",
    "from copy import copy\n",
    "import numpy as np\n",
    "import matplotlib.pyplot as plt\n",
    "from collections import OrderedDict\n",
    "from sklearn.model_selection import train_test_split\n",
    "from sklearn.metrics import confusion_matrix"
   ]
  },
  {
   "cell_type": "code",
   "execution_count": 2,
   "metadata": {},
   "outputs": [],
   "source": [
    "import tensorflow as tf\n",
    "from tensorflow.keras.utils import to_categorical\n",
    "from tensorflow.keras.models import Model\n",
    "from tensorflow.keras.layers import Input\n",
    "from tensorflow.keras.models import Sequential\n",
    "from tensorflow.keras.layers import Add\n",
    "from tensorflow.keras.layers import Dense\n",
    "from tensorflow.keras.layers import Activation\n",
    "from tensorflow.keras.layers import PReLU\n",
    "from tensorflow.keras.layers import Conv2D\n",
    "from tensorflow.keras.layers import MaxPooling2D\n",
    "from tensorflow.keras.layers import AveragePooling2D\n",
    "from tensorflow.keras.layers import GlobalAveragePooling2D\n",
    "from tensorflow.keras.layers import GlobalMaxPooling2D\n",
    "from tensorflow.keras.layers import Dropout\n",
    "from tensorflow.keras.layers import Flatten\n",
    "from tensorflow.keras.layers import BatchNormalization\n",
    "from tensorflow.keras.callbacks import ReduceLROnPlateau"
   ]
  },
  {
   "cell_type": "code",
   "execution_count": 3,
   "metadata": {},
   "outputs": [],
   "source": [
    "# For reproducibility purposes\n",
    "np.random.seed(42)"
   ]
  },
  {
   "cell_type": "markdown",
   "metadata": {},
   "source": [
    "# Read the data\n",
    "\n",
    "> Helper functions to assist the process to read songs, split then and return an array of spectrograms/melspectrograms"
   ]
  },
  {
   "cell_type": "code",
   "execution_count": 4,
   "metadata": {},
   "outputs": [],
   "source": [
    "\"\"\"\n",
    "@description: Method to split a song into multiple songs using overlapping windows\n",
    "\"\"\"\n",
    "def splitsongs(X, y, window = 0.05, overlap = 0.5):\n",
    "    # Empty lists to hold our results\n",
    "    temp_X = []\n",
    "    temp_y = []\n",
    "\n",
    "    # Get the input song array size\n",
    "    xshape = X.shape[0]\n",
    "    chunk = int(xshape*window)\n",
    "    offset = int(chunk*(1.-overlap))\n",
    "    \n",
    "    # Split the song and create new ones on windows\n",
    "    spsong = [X[i:i+chunk] for i in range(0, xshape - chunk + offset, offset)]\n",
    "    for s in spsong:\n",
    "        if s.shape[0] != chunk:\n",
    "            continue\n",
    "\n",
    "        temp_X.append(s)\n",
    "        temp_y.append(y)\n",
    "\n",
    "    return np.array(temp_X), np.array(temp_y)"
   ]
  },
  {
   "cell_type": "code",
   "execution_count": 5,
   "metadata": {},
   "outputs": [],
   "source": [
    "\"\"\"\n",
    "@description: Method to convert a list of songs to a np array of melspectrograms\n",
    "\"\"\"\n",
    "def to_melspectrogram(songs, n_fft=1024, hop_length=256):\n",
    "    # Transformation function\n",
    "    melspec = lambda x: librosa.feature.melspectrogram(x, n_fft=n_fft,\n",
    "        hop_length=hop_length, n_mels=128)[:,:,np.newaxis]\n",
    "\n",
    "    # map transformation of input songs to melspectrogram using log-scale\n",
    "    tsongs = map(melspec, songs)\n",
    "    # np.array([librosa.power_to_db(s, ref=np.max) for s in list(tsongs)])\n",
    "    return np.array(list(tsongs))"
   ]
  },
  {
   "cell_type": "code",
   "execution_count": 6,
   "metadata": {},
   "outputs": [],
   "source": [
    "def split_convert(X, y):\n",
    "    arr_specs, arr_genres = [], []\n",
    "    \n",
    "    # Convert to spectrograms and split into small windows\n",
    "    for fn, genre in zip(X, y):\n",
    "        signal, sr = librosa.load(fn)\n",
    "        signal = signal[:song_samples]\n",
    "\n",
    "        # Convert to dataset of spectograms/melspectograms\n",
    "        signals, y = splitsongs(signal, genre)\n",
    "\n",
    "        # Convert to \"spec\" representation\n",
    "        specs = to_melspectrogram(signals)\n",
    "\n",
    "        # Save files\n",
    "        arr_genres.extend(y)\n",
    "        arr_specs.extend(specs)\n",
    "    \n",
    "    return np.array(arr_specs), to_categorical(arr_genres)"
   ]
  },
  {
   "cell_type": "code",
   "execution_count": 7,
   "metadata": {},
   "outputs": [],
   "source": [
    "def read_data(src_dir, genres, song_samples):    \n",
    "    # Empty array of dicts with the processed features from all files\n",
    "    arr_fn = []\n",
    "    arr_genres = []\n",
    "\n",
    "    # Get file list from the folders\n",
    "    for x,_ in genres.items():\n",
    "        folder = src_dir + x\n",
    "        for root, subdirs, files in os.walk(folder):\n",
    "            for file in files:\n",
    "                file_name = folder + \"/\" + file\n",
    "\n",
    "                # Save the file name and the genre\n",
    "                arr_fn.append(file_name)\n",
    "                arr_genres.append(genres[x])\n",
    "    \n",
    "    # Split into train and test\n",
    "    X_train, X_test, y_train, y_test = train_test_split(\n",
    "        arr_fn, arr_genres, test_size=0.3, random_state=42, stratify=arr_genres\n",
    "    )\n",
    "    \n",
    "    # Split into small segments and convert to spectrogram\n",
    "    X_train, y_train = split_convert(X_train, y_train)\n",
    "    X_test, y_test = split_convert(X_test, y_test)\n",
    "\n",
    "    return X_train, X_test, y_train, y_test"
   ]
  },
  {
   "cell_type": "code",
   "execution_count": 8,
   "metadata": {},
   "outputs": [],
   "source": [
    "# Parameters\n",
    "gtzan_dir = '../data/genres/'\n",
    "song_samples = 660000\n",
    "genres = {'metal': 0, 'disco': 1, 'classical': 2, 'hiphop': 3, 'jazz': 4, \n",
    "          'country': 5, 'pop': 6, 'blues': 7, 'reggae': 8, 'rock': 9}\n",
    "\n",
    "# Read the data\n",
    "X_train, X_test, y_train, y_test = read_data(gtzan_dir, genres, song_samples)"
   ]
  },
  {
   "cell_type": "code",
   "execution_count": 9,
   "metadata": {},
   "outputs": [
    {
     "name": "stdout",
     "output_type": "stream",
     "text": [
      "(27300, 128, 129, 1) (11700, 128, 129, 1) (27300, 10) (11700, 10)\n"
     ]
    }
   ],
   "source": [
    "print(X_train.shape, X_test.shape, y_train.shape, y_test.shape)"
   ]
  },
  {
   "cell_type": "code",
   "execution_count": 10,
   "metadata": {},
   "outputs": [
    {
     "data": {
      "image/png": "[encoded data removed]",
      "text/plain": [
       "<Figure size 432x288 with 1 Axes>"
      ]
     },
     "metadata": {
      "needs_background": "light"
     },
     "output_type": "display_data"
    }
   ],
   "source": [
    "# Histogram for train and test \n",
    "values, count = np.unique(np.argmax(y_train, axis=1), return_counts=True)\n",
    "plt.bar(values, count)\n",
    "\n",
    "values, count = np.unique(np.argmax(y_test, axis=1), return_counts=True)\n",
    "plt.bar(values, count)\n",
    "plt.show()"
   ]
  },
  {
   "cell_type": "markdown",
   "metadata": {},
   "source": [
    "# GTZAN Melspectrogram Generator"
   ]
  },
  {
   "cell_type": "code",
   "execution_count": 11,
   "metadata": {},
   "outputs": [],
   "source": [
    "from tensorflow.keras.utils import Sequence\n",
    "\n",
    "class GTZANGenerator(Sequence):\n",
    "    def __init__(self, X, y, batch_size=64, is_test = False):\n",
    "        self.X = X\n",
    "        self.y = y\n",
    "        self.batch_size = batch_size\n",
    "        self.is_test = is_test\n",
    "    \n",
    "    def __len__(self):\n",
    "        return int(np.ceil(len(self.X)/self.batch_size))\n",
    "    \n",
    "    def __getitem__(self, index):\n",
    "        # Get batch indexes\n",
    "        signals = self.X[index*self.batch_size:(index+1)*self.batch_size]\n",
    "\n",
    "        # Apply data augmentation\n",
    "        if not self.is_test:\n",
    "            signals = self.__augment(signals)\n",
    "        return signals, self.y[index*self.batch_size:(index+1)*self.batch_size]\n",
    "    \n",
    "    def __augment(self, signals, hor_flip = 0.5, random_cutout = 0.5):\n",
    "        spectrograms =  []\n",
    "        for s in signals:\n",
    "            signal = copy(s)\n",
    "            \n",
    "            # Perform horizontal flip\n",
    "            if np.random.rand() < hor_flip:\n",
    "                signal = np.flip(signal, 1)\n",
    "\n",
    "            # Perform random cutoout of some frequency/time\n",
    "            if np.random.rand() < random_cutout:\n",
    "                lines = np.random.randint(signal.shape[0], size=3)\n",
    "                cols = np.random.randint(signal.shape[0], size=4)\n",
    "                signal[lines, :, :] = -80 # dB\n",
    "                signal[:, cols, :] = -80 # dB\n",
    "\n",
    "            spectrograms.append(signal)\n",
    "        return np.array(spectrograms)\n",
    "    \n",
    "    def on_epoch_end(self):\n",
    "        self.indexes = np.arange(len(self.X))\n",
    "        np.random.shuffle(self.indexes)\n",
    "        return None"
   ]
  },
  {
   "cell_type": "markdown",
   "metadata": {},
   "source": [
    "# Custom CNN (Melspectrogram version)"
   ]
  },
  {
   "cell_type": "code",
   "execution_count": 12,
   "metadata": {},
   "outputs": [],
   "source": [
    "def conv_block(x, n_filters, pool_size=(2, 2)):\n",
    "    x = Conv2D(n_filters, (3, 3), strides=(1, 1), padding='same')(x)\n",
    "    x = Activation('relu')(x)\n",
    "    x = MaxPooling2D(pool_size=pool_size, strides=pool_size)(x)\n",
    "    x = Dropout(0.25)(x)\n",
    "    return x"
   ]
  },
  {
   "cell_type": "code",
   "execution_count": 13,
   "metadata": {},
   "outputs": [],
   "source": [
    "# Model Definition\n",
    "def create_model(input_shape, num_genres):\n",
    "    inpt = Input(shape=input_shape)\n",
    "    x = conv_block(inpt, 16)\n",
    "    x = conv_block(x, 32)\n",
    "    x = conv_block(x, 64)\n",
    "    x = conv_block(x, 128)\n",
    "    x = conv_block(x, 256)\n",
    "    \n",
    "    # Global Pooling and MLP\n",
    "    x = Flatten()(x)\n",
    "    x = Dropout(0.5)(x)\n",
    "    x = Dense(512, activation='relu', \n",
    "              kernel_regularizer=tf.keras.regularizers.l2(0.02))(x)\n",
    "    x = Dropout(0.25)(x)\n",
    "    predictions = Dense(num_genres, \n",
    "                        activation='softmax', \n",
    "                        kernel_regularizer=tf.keras.regularizers.l2(0.02))(x)\n",
    "    \n",
    "    model = Model(inputs=inpt, outputs=predictions)\n",
    "    return model"
   ]
  },
  {
   "cell_type": "code",
   "execution_count": 14,
   "metadata": {},
   "outputs": [],
   "source": [
    "model = create_model(X_train[0].shape, 10)"
   ]
  },
  {
   "cell_type": "code",
   "execution_count": 15,
   "metadata": {},
   "outputs": [
    {
     "name": "stdout",
     "output_type": "stream",
     "text": [
      "Model: \"model\"\n",
      "_________________________________________________________________\n",
      "Layer (type)                 Output Shape              Param #   \n",
      "=================================================================\n",
      "input_1 (InputLayer)         [(None, 128, 129, 1)]     0         \n",
      "_________________________________________________________________\n",
      "conv2d (Conv2D)              (None, 128, 129, 16)      160       \n",
      "_________________________________________________________________\n",
      "activation (Activation)      (None, 128, 129, 16)      0         \n",
      "_________________________________________________________________\n",
      "max_pooling2d (MaxPooling2D) (None, 64, 64, 16)        0         \n",
      "_________________________________________________________________\n",
      "dropout (Dropout)            (None, 64, 64, 16)        0         \n",
      "_________________________________________________________________\n",
      "conv2d_1 (Conv2D)            (None, 64, 64, 32)        4640      \n",
      "_________________________________________________________________\n",
      "activation_1 (Activation)    (None, 64, 64, 32)        0         \n",
      "_________________________________________________________________\n",
      "max_pooling2d_1 (MaxPooling2 (None, 32, 32, 32)        0         \n",
      "_________________________________________________________________\n",
      "dropout_1 (Dropout)          (None, 32, 32, 32)        0         \n",
      "_________________________________________________________________\n",
      "conv2d_2 (Conv2D)            (None, 32, 32, 64)        18496     \n",
      "_________________________________________________________________\n",
      "activation_2 (Activation)    (None, 32, 32, 64)        0         \n",
      "_________________________________________________________________\n",
      "max_pooling2d_2 (MaxPooling2 (None, 16, 16, 64)        0         \n",
      "_________________________________________________________________\n",
      "dropout_2 (Dropout)          (None, 16, 16, 64)        0         \n",
      "_________________________________________________________________\n",
      "conv2d_3 (Conv2D)            (None, 16, 16, 128)       73856     \n",
      "_________________________________________________________________\n",
      "activation_3 (Activation)    (None, 16, 16, 128)       0         \n",
      "_________________________________________________________________\n",
      "max_pooling2d_3 (MaxPooling2 (None, 8, 8, 128)         0         \n",
      "_________________________________________________________________\n",
      "dropout_3 (Dropout)          (None, 8, 8, 128)         0         \n",
      "_________________________________________________________________\n",
      "conv2d_4 (Conv2D)            (None, 8, 8, 256)         295168    \n",
      "_________________________________________________________________\n",
      "activation_4 (Activation)    (None, 8, 8, 256)         0         \n",
      "_________________________________________________________________\n",
      "max_pooling2d_4 (MaxPooling2 (None, 4, 4, 256)         0         \n",
      "_________________________________________________________________\n",
      "dropout_4 (Dropout)          (None, 4, 4, 256)         0         \n",
      "_________________________________________________________________\n",
      "flatten (Flatten)            (None, 4096)              0         \n",
      "_________________________________________________________________\n",
      "dropout_5 (Dropout)          (None, 4096)              0         \n",
      "_________________________________________________________________\n",
      "dense (Dense)                (None, 512)               2097664   \n",
      "_________________________________________________________________\n",
      "dropout_6 (Dropout)          (None, 512)               0         \n",
      "_________________________________________________________________\n",
      "dense_1 (Dense)              (None, 10)                5130      \n",
      "=================================================================\n",
      "Total params: 2,495,114\n",
      "Trainable params: 2,495,114\n",
      "Non-trainable params: 0\n",
      "_________________________________________________________________\n"
     ]
    }
   ],
   "source": [
    "model.summary()"
   ]
  },
  {
   "cell_type": "markdown",
   "metadata": {},
   "source": [
    "### Loss function"
   ]
  },
  {
   "cell_type": "code",
   "execution_count": 16,
   "metadata": {},
   "outputs": [],
   "source": [
    "model.compile(loss=tf.keras.losses.categorical_crossentropy,\n",
    "              optimizer=tf.keras.optimizers.Adam(),\n",
    "              metrics=['accuracy'])"
   ]
  },
  {
   "cell_type": "code",
   "execution_count": 17,
   "metadata": {},
   "outputs": [],
   "source": [
    "reduceLROnPlat = ReduceLROnPlateau(\n",
    "    monitor='val_loss', \n",
    "    factor=0.95,\n",
    "    patience=3,\n",
    "    verbose=1,\n",
    "    mode='min',\n",
    "    min_delta=0.0001,\n",
    "    cooldown=2,\n",
    "    min_lr=1e-5\n",
    ")"
   ]
  },
  {
   "cell_type": "code",
   "execution_count": 18,
   "metadata": {},
   "outputs": [],
   "source": [
    "# Generators\n",
    "batch_size = 128\n",
    "train_generator = GTZANGenerator(X_train, y_train)\n",
    "steps_per_epoch = np.ceil(len(X_train)/batch_size)\n",
    "\n",
    "validation_generator = GTZANGenerator(X_test, y_test)\n",
    "val_steps = np.ceil(len(X_test)/batch_size)"
   ]
  },
  {
   "cell_type": "code",
   "execution_count": 19,
   "metadata": {
    "scrolled": true
   },
   "outputs": [
    {
     "name": "stdout",
     "output_type": "stream",
     "text": [
      "Epoch 1/150\n",
      "214/214 [==============================] - 116s 541ms/step - loss: 8.2643 - accuracy: 0.1388 - val_loss: 3.1057 - val_accuracy: 0.1598\n",
      "Epoch 2/150\n",
      "214/214 [==============================] - 115s 538ms/step - loss: 2.5984 - accuracy: 0.1904 - val_loss: 2.3648 - val_accuracy: 0.2011\n",
      "Epoch 3/150\n",
      "214/214 [==============================] - 116s 542ms/step - loss: 2.2849 - accuracy: 0.1843 - val_loss: 2.2174 - val_accuracy: 0.1990\n",
      "Epoch 4/150\n",
      "214/214 [==============================] - 116s 544ms/step - loss: 2.2112 - accuracy: 0.1888 - val_loss: 2.2455 - val_accuracy: 0.1686\n",
      "Epoch 5/150\n",
      "214/214 [==============================] - 117s 546ms/step - loss: 2.1364 - accuracy: 0.2112 - val_loss: 2.1680 - val_accuracy: 0.2092\n",
      "Epoch 6/150\n",
      "214/214 [==============================] - 117s 548ms/step - loss: 2.0961 - accuracy: 0.2188 - val_loss: 2.1660 - val_accuracy: 0.2094\n",
      "Epoch 7/150\n",
      "214/214 [==============================] - 118s 552ms/step - loss: 2.0707 - accuracy: 0.2417 - val_loss: 2.0778 - val_accuracy: 0.2272\n",
      "Epoch 8/150\n",
      "214/214 [==============================] - 117s 549ms/step - loss: 2.0431 - accuracy: 0.2246 - val_loss: 2.0507 - val_accuracy: 0.2471\n",
      "Epoch 9/150\n",
      "214/214 [==============================] - 118s 549ms/step - loss: 2.0102 - accuracy: 0.2428 - val_loss: 2.0404 - val_accuracy: 0.2249\n",
      "Epoch 10/150\n",
      "214/214 [==============================] - 118s 550ms/step - loss: 2.0260 - accuracy: 0.2428 - val_loss: 1.9904 - val_accuracy: 0.2571\n",
      "Epoch 11/150\n",
      "214/214 [==============================] - 118s 550ms/step - loss: 1.9696 - accuracy: 0.2511 - val_loss: 1.9655 - val_accuracy: 0.3021\n",
      "Epoch 12/150\n",
      "214/214 [==============================] - 118s 550ms/step - loss: 1.9975 - accuracy: 0.2615 - val_loss: 2.0090 - val_accuracy: 0.2614\n",
      "Epoch 13/150\n",
      "214/214 [==============================] - 118s 553ms/step - loss: 1.9478 - accuracy: 0.2888 - val_loss: 1.9648 - val_accuracy: 0.2508\n",
      "Epoch 14/150\n",
      "214/214 [==============================] - 118s 552ms/step - loss: 1.9767 - accuracy: 0.2655 - val_loss: 1.9478 - val_accuracy: 0.2468\n",
      "Epoch 15/150\n",
      "214/214 [==============================] - 118s 552ms/step - loss: 1.9774 - accuracy: 0.2696 - val_loss: 1.9126 - val_accuracy: 0.3207\n",
      "Epoch 16/150\n",
      "214/214 [==============================] - 118s 552ms/step - loss: 1.8762 - accuracy: 0.2988 - val_loss: 1.9033 - val_accuracy: 0.2962\n",
      "Epoch 17/150\n",
      "214/214 [==============================] - 119s 557ms/step - loss: 1.8949 - accuracy: 0.3009 - val_loss: 1.8845 - val_accuracy: 0.2999\n",
      "Epoch 18/150\n",
      "214/214 [==============================] - 118s 551ms/step - loss: 1.9081 - accuracy: 0.2855 - val_loss: 1.8792 - val_accuracy: 0.2884\n",
      "Epoch 19/150\n",
      "214/214 [==============================] - 118s 550ms/step - loss: 1.9124 - accuracy: 0.3123 - val_loss: 1.9745 - val_accuracy: 0.2415\n",
      "Epoch 20/150\n",
      "214/214 [==============================] - 118s 552ms/step - loss: 1.8951 - accuracy: 0.3034 - val_loss: 1.8660 - val_accuracy: 0.3224\n",
      "Epoch 21/150\n",
      "214/214 [==============================] - 118s 552ms/step - loss: 1.9057 - accuracy: 0.3073 - val_loss: 1.8871 - val_accuracy: 0.3139\n",
      "Epoch 22/150\n",
      "214/214 [==============================] - 118s 552ms/step - loss: 1.8560 - accuracy: 0.3439 - val_loss: 1.9275 - val_accuracy: 0.2989\n",
      "Epoch 23/150\n",
      "214/214 [==============================] - 118s 553ms/step - loss: 1.8198 - accuracy: 0.3440 - val_loss: 1.8011 - val_accuracy: 0.3203\n",
      "Epoch 24/150\n",
      "214/214 [==============================] - 118s 552ms/step - loss: 1.8736 - accuracy: 0.3362 - val_loss: 1.9121 - val_accuracy: 0.3359\n",
      "Epoch 25/150\n",
      "214/214 [==============================] - 117s 548ms/step - loss: 1.8637 - accuracy: 0.3441 - val_loss: 1.7973 - val_accuracy: 0.3417\n",
      "Epoch 26/150\n",
      "214/214 [==============================] - 118s 551ms/step - loss: 1.7703 - accuracy: 0.3863 - val_loss: 1.7617 - val_accuracy: 0.3813\n",
      "Epoch 27/150\n",
      "214/214 [==============================] - 119s 555ms/step - loss: 1.7547 - accuracy: 0.3904 - val_loss: 1.7744 - val_accuracy: 0.3893\n",
      "Epoch 28/150\n",
      "214/214 [==============================] - 118s 552ms/step - loss: 1.8203 - accuracy: 0.3650 - val_loss: 1.7901 - val_accuracy: 0.3599\n",
      "Epoch 29/150\n",
      "214/214 [==============================] - 118s 553ms/step - loss: 1.7383 - accuracy: 0.3995 - val_loss: 1.7173 - val_accuracy: 0.4027\n",
      "Epoch 30/150\n",
      "214/214 [==============================] - 118s 552ms/step - loss: 1.7320 - accuracy: 0.4188 - val_loss: 1.7259 - val_accuracy: 0.3989\n",
      "Epoch 31/150\n",
      "214/214 [==============================] - 118s 552ms/step - loss: 1.6663 - accuracy: 0.4086 - val_loss: 1.6490 - val_accuracy: 0.4431\n",
      "Epoch 32/150\n",
      "214/214 [==============================] - 119s 555ms/step - loss: 1.7559 - accuracy: 0.4049 - val_loss: 1.6945 - val_accuracy: 0.4042\n",
      "Epoch 33/150\n",
      "214/214 [==============================] - 118s 552ms/step - loss: 1.6985 - accuracy: 0.4250 - val_loss: 1.6945 - val_accuracy: 0.4450\n",
      "Epoch 34/150\n",
      "213/214 [============================>.] - ETA: 0s - loss: 1.7037 - accuracy: 0.4088\n",
      "Epoch 00034: ReduceLROnPlateau reducing learning rate to 0.0009500000451225787.\n",
      "214/214 [==============================] - 118s 552ms/step - loss: 1.7060 - accuracy: 0.4075 - val_loss: 1.6801 - val_accuracy: 0.4224\n",
      "Epoch 35/150\n",
      "214/214 [==============================] - 118s 553ms/step - loss: 1.6167 - accuracy: 0.4401 - val_loss: 1.7938 - val_accuracy: 0.3899\n",
      "Epoch 36/150\n",
      "214/214 [==============================] - 118s 554ms/step - loss: 1.7078 - accuracy: 0.4252 - val_loss: 1.6805 - val_accuracy: 0.4348\n",
      "Epoch 37/150\n",
      "214/214 [==============================] - 119s 555ms/step - loss: 1.6180 - accuracy: 0.4301 - val_loss: 1.7470 - val_accuracy: 0.4042\n",
      "Epoch 38/150\n",
      "214/214 [==============================] - 118s 552ms/step - loss: 1.6979 - accuracy: 0.4277 - val_loss: 1.6217 - val_accuracy: 0.4270\n",
      "Epoch 39/150\n",
      "214/214 [==============================] - 118s 553ms/step - loss: 1.6012 - accuracy: 0.4555 - val_loss: 1.6292 - val_accuracy: 0.4327\n",
      "Epoch 40/150\n",
      "214/214 [==============================] - 118s 550ms/step - loss: 1.6384 - accuracy: 0.4307 - val_loss: 1.7014 - val_accuracy: 0.4547\n",
      "Epoch 41/150\n",
      "214/214 [==============================] - 118s 550ms/step - loss: 1.5816 - accuracy: 0.4613 - val_loss: 1.5961 - val_accuracy: 0.4575\n",
      "Epoch 42/150\n",
      "214/214 [==============================] - 118s 553ms/step - loss: 1.6123 - accuracy: 0.4608 - val_loss: 1.6047 - val_accuracy: 0.4577\n",
      "Epoch 43/150\n",
      "214/214 [==============================] - 118s 551ms/step - loss: 1.6095 - accuracy: 0.4609 - val_loss: 1.5942 - val_accuracy: 0.4575\n",
      "Epoch 44/150\n",
      "214/214 [==============================] - 118s 550ms/step - loss: 1.5756 - accuracy: 0.4688 - val_loss: 1.6911 - val_accuracy: 0.3702\n",
      "Epoch 45/150\n",
      "214/214 [==============================] - 118s 550ms/step - loss: 1.5879 - accuracy: 0.4601 - val_loss: 1.6463 - val_accuracy: 0.4630\n",
      "Epoch 46/150\n",
      "213/214 [============================>.] - ETA: 0s - loss: 1.5906 - accuracy: 0.4678\n",
      "Epoch 00046: ReduceLROnPlateau reducing learning rate to 0.0009025000152178108.\n",
      "214/214 [==============================] - 117s 549ms/step - loss: 1.5879 - accuracy: 0.4684 - val_loss: 1.7235 - val_accuracy: 0.4331\n",
      "Epoch 47/150\n",
      "214/214 [==============================] - 118s 551ms/step - loss: 1.5548 - accuracy: 0.4801 - val_loss: 1.5388 - val_accuracy: 0.4776\n",
      "Epoch 48/150\n",
      "214/214 [==============================] - 118s 550ms/step - loss: 1.5304 - accuracy: 0.4910 - val_loss: 1.5572 - val_accuracy: 0.4783\n",
      "Epoch 49/150\n",
      "214/214 [==============================] - 118s 549ms/step - loss: 1.5042 - accuracy: 0.4943 - val_loss: 1.5688 - val_accuracy: 0.4609\n",
      "Epoch 50/150\n",
      "214/214 [==============================] - 118s 550ms/step - loss: 1.5975 - accuracy: 0.4732 - val_loss: 1.5206 - val_accuracy: 0.4900\n",
      "Epoch 51/150\n",
      "214/214 [==============================] - 117s 549ms/step - loss: 1.5438 - accuracy: 0.4877 - val_loss: 1.4912 - val_accuracy: 0.5122\n",
      "Epoch 52/150\n",
      "214/214 [==============================] - 117s 546ms/step - loss: 1.5035 - accuracy: 0.5024 - val_loss: 1.5306 - val_accuracy: 0.4958\n",
      "Epoch 53/150\n",
      "214/214 [==============================] - 117s 547ms/step - loss: 1.5547 - accuracy: 0.4885 - val_loss: 1.5158 - val_accuracy: 0.5087\n",
      "Epoch 54/150\n"
     ]
    },
    {
     "name": "stdout",
     "output_type": "stream",
     "text": [
      "213/214 [============================>.] - ETA: 0s - loss: 1.4930 - accuracy: 0.5087\n",
      "Epoch 00054: ReduceLROnPlateau reducing learning rate to 0.0008573750033974647.\n",
      "214/214 [==============================] - 117s 545ms/step - loss: 1.4910 - accuracy: 0.5105 - val_loss: 1.5869 - val_accuracy: 0.4614\n",
      "Epoch 55/150\n",
      "214/214 [==============================] - 117s 546ms/step - loss: 1.4749 - accuracy: 0.5080 - val_loss: 1.5228 - val_accuracy: 0.4677\n",
      "Epoch 56/150\n",
      "214/214 [==============================] - 120s 562ms/step - loss: 1.5196 - accuracy: 0.5053 - val_loss: 1.4926 - val_accuracy: 0.5499\n",
      "Epoch 57/150\n",
      "214/214 [==============================] - 133s 622ms/step - loss: 1.4599 - accuracy: 0.5299 - val_loss: 1.5007 - val_accuracy: 0.4988\n",
      "Epoch 58/150\n",
      "214/214 [==============================] - 128s 597ms/step - loss: 1.4212 - accuracy: 0.5329 - val_loss: 1.4543 - val_accuracy: 0.5542\n",
      "Epoch 59/150\n",
      "214/214 [==============================] - 123s 576ms/step - loss: 1.5451 - accuracy: 0.4819 - val_loss: 1.5282 - val_accuracy: 0.4946\n",
      "Epoch 60/150\n",
      "214/214 [==============================] - 126s 589ms/step - loss: 1.4026 - accuracy: 0.5480 - val_loss: 1.3978 - val_accuracy: 0.5773\n",
      "Epoch 61/150\n",
      "214/214 [==============================] - 130s 609ms/step - loss: 1.4016 - accuracy: 0.5536 - val_loss: 1.4282 - val_accuracy: 0.5280\n",
      "Epoch 62/150\n",
      "214/214 [==============================] - 130s 607ms/step - loss: 1.4551 - accuracy: 0.5256 - val_loss: 1.4393 - val_accuracy: 0.5253\n",
      "Epoch 63/150\n",
      "213/214 [============================>.] - ETA: 23s - loss: 1.4476 - accuracy: 0.5353\n",
      "Epoch 00063: ReduceLROnPlateau reducing learning rate to 0.0008145062311086804.\n",
      "214/214 [==============================] - 5003s 23s/step - loss: 1.4482 - accuracy: 0.5348 - val_loss: 1.4289 - val_accuracy: 0.5382\n",
      "Epoch 64/150\n",
      "214/214 [==============================] - 117s 548ms/step - loss: 1.4353 - accuracy: 0.5472 - val_loss: 1.4906 - val_accuracy: 0.5526\n",
      "Epoch 65/150\n",
      "214/214 [==============================] - 118s 553ms/step - loss: 1.3757 - accuracy: 0.5555 - val_loss: 1.4719 - val_accuracy: 0.5392\n",
      "Epoch 66/150\n",
      "214/214 [==============================] - 118s 550ms/step - loss: 1.4292 - accuracy: 0.5587 - val_loss: 1.4659 - val_accuracy: 0.5222\n",
      "Epoch 67/150\n",
      "213/214 [============================>.] - ETA: 0s - loss: 1.4356 - accuracy: 0.5422\n",
      "Epoch 00067: ReduceLROnPlateau reducing learning rate to 0.0007737808919046074.\n",
      "214/214 [==============================] - 122s 569ms/step - loss: 1.4367 - accuracy: 0.5416 - val_loss: 1.6045 - val_accuracy: 0.4908\n",
      "Epoch 68/150\n",
      "214/214 [==============================] - 121s 564ms/step - loss: 1.3402 - accuracy: 0.5702 - val_loss: 1.3635 - val_accuracy: 0.5786\n",
      "Epoch 69/150\n",
      "214/214 [==============================] - 125s 582ms/step - loss: 1.3489 - accuracy: 0.5809 - val_loss: 1.4241 - val_accuracy: 0.5554\n",
      "Epoch 70/150\n",
      "214/214 [==============================] - 124s 578ms/step - loss: 1.3864 - accuracy: 0.5585 - val_loss: 1.5361 - val_accuracy: 0.5464\n",
      "Epoch 71/150\n",
      "213/214 [============================>.] - ETA: 0s - loss: 1.3676 - accuracy: 0.5726\n",
      "Epoch 00071: ReduceLROnPlateau reducing learning rate to 0.000735091819660738.\n",
      "214/214 [==============================] - 127s 595ms/step - loss: 1.3648 - accuracy: 0.5740 - val_loss: 1.3753 - val_accuracy: 0.5829\n",
      "Epoch 72/150\n",
      "214/214 [==============================] - 124s 577ms/step - loss: 1.3375 - accuracy: 0.5680 - val_loss: 1.4501 - val_accuracy: 0.5353\n",
      "Epoch 73/150\n",
      "214/214 [==============================] - 122s 568ms/step - loss: 1.4079 - accuracy: 0.5554 - val_loss: 1.5702 - val_accuracy: 0.4878\n",
      "Epoch 74/150\n",
      "214/214 [==============================] - 121s 566ms/step - loss: 1.2966 - accuracy: 0.5972 - val_loss: 1.3529 - val_accuracy: 0.5705\n",
      "Epoch 75/150\n",
      "214/214 [==============================] - 121s 563ms/step - loss: 1.2907 - accuracy: 0.5935 - val_loss: 1.3484 - val_accuracy: 0.5781\n",
      "Epoch 76/150\n",
      "214/214 [==============================] - 120s 563ms/step - loss: 1.3679 - accuracy: 0.5737 - val_loss: 1.3741 - val_accuracy: 0.5735\n",
      "Epoch 77/150\n",
      "214/214 [==============================] - 120s 560ms/step - loss: 1.3137 - accuracy: 0.5932 - val_loss: 1.4166 - val_accuracy: 0.5487\n",
      "Epoch 78/150\n",
      "213/214 [============================>.] - ETA: 0s - loss: 1.3025 - accuracy: 0.6034\n",
      "Epoch 00078: ReduceLROnPlateau reducing learning rate to 0.0006983372120885178.\n",
      "214/214 [==============================] - 121s 564ms/step - loss: 1.3027 - accuracy: 0.6035 - val_loss: 1.3815 - val_accuracy: 0.5707\n",
      "Epoch 79/150\n",
      "214/214 [==============================] - 121s 566ms/step - loss: 1.3013 - accuracy: 0.5958 - val_loss: 1.4497 - val_accuracy: 0.5374\n",
      "Epoch 80/150\n",
      "214/214 [==============================] - 121s 565ms/step - loss: 1.2910 - accuracy: 0.6007 - val_loss: 1.3211 - val_accuracy: 0.5954\n",
      "Epoch 81/150\n",
      "214/214 [==============================] - 121s 564ms/step - loss: 1.2087 - accuracy: 0.6289 - val_loss: 1.3200 - val_accuracy: 0.5841\n",
      "Epoch 82/150\n",
      "214/214 [==============================] - 121s 566ms/step - loss: 1.3021 - accuracy: 0.5885 - val_loss: 1.4048 - val_accuracy: 0.5467\n",
      "Epoch 83/150\n",
      "214/214 [==============================] - 120s 561ms/step - loss: 1.2328 - accuracy: 0.6218 - val_loss: 1.3448 - val_accuracy: 0.5943\n",
      "Epoch 84/150\n",
      "213/214 [============================>.] - ETA: 0s - loss: 1.2829 - accuracy: 0.5971\n",
      "Epoch 00084: ReduceLROnPlateau reducing learning rate to 0.0006634203542489559.\n",
      "214/214 [==============================] - 122s 571ms/step - loss: 1.2850 - accuracy: 0.5960 - val_loss: 1.4470 - val_accuracy: 0.5528\n",
      "Epoch 85/150\n",
      "214/214 [==============================] - 122s 569ms/step - loss: 1.2603 - accuracy: 0.6119 - val_loss: 1.3525 - val_accuracy: 0.5822\n",
      "Epoch 86/150\n",
      "214/214 [==============================] - 122s 571ms/step - loss: 1.2388 - accuracy: 0.6170 - val_loss: 1.3309 - val_accuracy: 0.5929\n",
      "Epoch 87/150\n",
      "214/214 [==============================] - 122s 568ms/step - loss: 1.2165 - accuracy: 0.6248 - val_loss: 1.3510 - val_accuracy: 0.5829\n",
      "Epoch 88/150\n",
      "213/214 [============================>.] - ETA: 0s - loss: 1.2599 - accuracy: 0.6024\n",
      "Epoch 00088: ReduceLROnPlateau reducing learning rate to 0.0006302493420662358.\n",
      "214/214 [==============================] - 122s 568ms/step - loss: 1.2607 - accuracy: 0.6024 - val_loss: 1.3497 - val_accuracy: 0.5866\n",
      "Epoch 89/150\n",
      "214/214 [==============================] - 122s 569ms/step - loss: 1.2318 - accuracy: 0.6163 - val_loss: 1.3348 - val_accuracy: 0.6039\n",
      "Epoch 90/150\n",
      "214/214 [==============================] - 122s 570ms/step - loss: 1.1882 - accuracy: 0.6365 - val_loss: 1.2667 - val_accuracy: 0.6230\n",
      "Epoch 91/150\n",
      "214/214 [==============================] - 122s 571ms/step - loss: 1.1922 - accuracy: 0.6235 - val_loss: 1.3103 - val_accuracy: 0.6128\n",
      "Epoch 92/150\n",
      "214/214 [==============================] - 122s 568ms/step - loss: 1.2103 - accuracy: 0.6339 - val_loss: 1.3270 - val_accuracy: 0.5965\n",
      "Epoch 93/150\n",
      "213/214 [============================>.] - ETA: 0s - loss: 1.2435 - accuracy: 0.6021\n",
      "Epoch 00093: ReduceLROnPlateau reducing learning rate to 0.0005987368611386045.\n",
      "214/214 [==============================] - 122s 569ms/step - loss: 1.2417 - accuracy: 0.6028 - val_loss: 1.3013 - val_accuracy: 0.5944\n",
      "Epoch 94/150\n",
      "214/214 [==============================] - 122s 569ms/step - loss: 1.1816 - accuracy: 0.6424 - val_loss: 1.3469 - val_accuracy: 0.5825\n",
      "Epoch 95/150\n",
      "214/214 [==============================] - 122s 570ms/step - loss: 1.2071 - accuracy: 0.6358 - val_loss: 1.2302 - val_accuracy: 0.6296\n",
      "Epoch 96/150\n",
      "214/214 [==============================] - 121s 567ms/step - loss: 1.1451 - accuracy: 0.6550 - val_loss: 1.3347 - val_accuracy: 0.5905\n",
      "Epoch 97/150\n",
      "214/214 [==============================] - 122s 569ms/step - loss: 1.1990 - accuracy: 0.6278 - val_loss: 1.3418 - val_accuracy: 0.5961\n",
      "Epoch 98/150\n",
      "213/214 [============================>.] - ETA: 0s - loss: 1.1960 - accuracy: 0.6300\n",
      "Epoch 00098: ReduceLROnPlateau reducing learning rate to 0.0005688000208465382.\n",
      "214/214 [==============================] - 121s 568ms/step - loss: 1.1943 - accuracy: 0.6303 - val_loss: 1.2762 - val_accuracy: 0.6112\n",
      "Epoch 99/150\n"
     ]
    },
    {
     "name": "stdout",
     "output_type": "stream",
     "text": [
      "214/214 [==============================] - 121s 565ms/step - loss: 1.1869 - accuracy: 0.6341 - val_loss: 1.2240 - val_accuracy: 0.6270\n",
      "Epoch 100/150\n",
      "214/214 [==============================] - 121s 566ms/step - loss: 1.1538 - accuracy: 0.6471 - val_loss: 1.2350 - val_accuracy: 0.6185\n",
      "Epoch 101/150\n",
      "214/214 [==============================] - 120s 560ms/step - loss: 1.1321 - accuracy: 0.6635 - val_loss: 1.2359 - val_accuracy: 0.6384\n",
      "Epoch 102/150\n",
      "213/214 [============================>.] - ETA: 0s - loss: 1.1370 - accuracy: 0.6494\n",
      "Epoch 00102: ReduceLROnPlateau reducing learning rate to 0.0005403600225690752.\n",
      "214/214 [==============================] - 121s 563ms/step - loss: 1.1402 - accuracy: 0.6488 - val_loss: 1.3108 - val_accuracy: 0.6026\n",
      "Epoch 103/150\n",
      "214/214 [==============================] - 121s 566ms/step - loss: 1.1453 - accuracy: 0.6392 - val_loss: 1.2407 - val_accuracy: 0.6255\n",
      "Epoch 104/150\n",
      "214/214 [==============================] - 120s 563ms/step - loss: 1.1156 - accuracy: 0.6651 - val_loss: 1.2322 - val_accuracy: 0.6281\n",
      "Epoch 105/150\n",
      "214/214 [==============================] - 121s 564ms/step - loss: 1.1419 - accuracy: 0.6512 - val_loss: 1.2764 - val_accuracy: 0.6036\n",
      "Epoch 106/150\n",
      "213/214 [============================>.] - ETA: 0s - loss: 1.1091 - accuracy: 0.6582\n",
      "Epoch 00106: ReduceLROnPlateau reducing learning rate to 0.0005133419937919825.\n",
      "214/214 [==============================] - 121s 566ms/step - loss: 1.1134 - accuracy: 0.6560 - val_loss: 1.2840 - val_accuracy: 0.6077\n",
      "Epoch 107/150\n",
      "214/214 [==============================] - 121s 564ms/step - loss: 1.1579 - accuracy: 0.6424 - val_loss: 1.2645 - val_accuracy: 0.5985\n",
      "Epoch 108/150\n",
      "214/214 [==============================] - 121s 564ms/step - loss: 1.0750 - accuracy: 0.6735 - val_loss: 1.2731 - val_accuracy: 0.5881\n",
      "Epoch 109/150\n",
      "214/214 [==============================] - 121s 564ms/step - loss: 1.1006 - accuracy: 0.6555 - val_loss: 1.2213 - val_accuracy: 0.6104\n",
      "Epoch 110/150\n",
      "214/214 [==============================] - 120s 561ms/step - loss: 1.0719 - accuracy: 0.6771 - val_loss: 1.2991 - val_accuracy: 0.5985\n",
      "Epoch 111/150\n",
      "214/214 [==============================] - 121s 564ms/step - loss: 1.1293 - accuracy: 0.6659 - val_loss: 1.3139 - val_accuracy: 0.5859\n",
      "Epoch 112/150\n",
      "214/214 [==============================] - 121s 565ms/step - loss: 1.1331 - accuracy: 0.6535 - val_loss: 1.1613 - val_accuracy: 0.6413\n",
      "Epoch 113/150\n",
      "214/214 [==============================] - 121s 563ms/step - loss: 1.0942 - accuracy: 0.6689 - val_loss: 1.2232 - val_accuracy: 0.6163\n",
      "Epoch 114/150\n",
      "214/214 [==============================] - 121s 566ms/step - loss: 1.0754 - accuracy: 0.6684 - val_loss: 1.2288 - val_accuracy: 0.6337\n",
      "Epoch 115/150\n",
      "213/214 [============================>.] - ETA: 0s - loss: 1.0763 - accuracy: 0.6758\n",
      "Epoch 00115: ReduceLROnPlateau reducing learning rate to 0.0004876748775132.\n",
      "214/214 [==============================] - 121s 565ms/step - loss: 1.0772 - accuracy: 0.6753 - val_loss: 1.2152 - val_accuracy: 0.6243\n",
      "Epoch 116/150\n",
      "214/214 [==============================] - 120s 563ms/step - loss: 1.0894 - accuracy: 0.6680 - val_loss: 1.3090 - val_accuracy: 0.6005\n",
      "Epoch 117/150\n",
      "214/214 [==============================] - 119s 558ms/step - loss: 1.0632 - accuracy: 0.6775 - val_loss: 1.2000 - val_accuracy: 0.6382\n",
      "Epoch 118/150\n",
      "214/214 [==============================] - 120s 560ms/step - loss: 1.1005 - accuracy: 0.6583 - val_loss: 1.3334 - val_accuracy: 0.5824\n",
      "Epoch 119/150\n",
      "213/214 [============================>.] - ETA: 0s - loss: 1.0848 - accuracy: 0.6763\n",
      "Epoch 00119: ReduceLROnPlateau reducing learning rate to 0.00046329112810781223.\n",
      "214/214 [==============================] - 120s 559ms/step - loss: 1.0856 - accuracy: 0.6768 - val_loss: 1.2436 - val_accuracy: 0.6136\n",
      "Epoch 120/150\n",
      "214/214 [==============================] - 120s 559ms/step - loss: 1.0240 - accuracy: 0.6860 - val_loss: 1.2648 - val_accuracy: 0.6433\n",
      "Epoch 121/150\n",
      "214/214 [==============================] - 120s 560ms/step - loss: 1.0463 - accuracy: 0.6808 - val_loss: 1.2222 - val_accuracy: 0.6345\n",
      "Epoch 122/150\n",
      "214/214 [==============================] - 119s 557ms/step - loss: 1.1122 - accuracy: 0.6626 - val_loss: 1.1488 - val_accuracy: 0.6540\n",
      "Epoch 123/150\n",
      "214/214 [==============================] - 119s 558ms/step - loss: 1.0846 - accuracy: 0.6671 - val_loss: 1.3052 - val_accuracy: 0.6111\n",
      "Epoch 124/150\n",
      "214/214 [==============================] - 120s 558ms/step - loss: 1.0042 - accuracy: 0.6954 - val_loss: 1.2082 - val_accuracy: 0.6265\n",
      "Epoch 125/150\n",
      "213/214 [============================>.] - ETA: 0s - loss: 1.0757 - accuracy: 0.6711\n",
      "Epoch 00125: ReduceLROnPlateau reducing learning rate to 0.00044012657308485355.\n",
      "214/214 [==============================] - 119s 558ms/step - loss: 1.0739 - accuracy: 0.6717 - val_loss: 1.2050 - val_accuracy: 0.6313\n",
      "Epoch 126/150\n",
      "214/214 [==============================] - 121s 564ms/step - loss: 0.9907 - accuracy: 0.6989 - val_loss: 1.1656 - val_accuracy: 0.6401\n",
      "Epoch 127/150\n",
      "214/214 [==============================] - 125s 582ms/step - loss: 1.0168 - accuracy: 0.6895 - val_loss: 1.2460 - val_accuracy: 0.6102\n",
      "Epoch 128/150\n",
      "214/214 [==============================] - 123s 576ms/step - loss: 1.0552 - accuracy: 0.6790 - val_loss: 1.1940 - val_accuracy: 0.6313\n",
      "Epoch 129/150\n",
      "213/214 [============================>.] - ETA: 0s - loss: 1.0835 - accuracy: 0.6762\n",
      "Epoch 00129: ReduceLROnPlateau reducing learning rate to 0.00041812024719547477.\n",
      "214/214 [==============================] - 126s 587ms/step - loss: 1.0813 - accuracy: 0.6768 - val_loss: 1.2284 - val_accuracy: 0.6272\n",
      "Epoch 130/150\n",
      "214/214 [==============================] - 125s 585ms/step - loss: 1.0489 - accuracy: 0.6826 - val_loss: 1.1928 - val_accuracy: 0.6359\n",
      "Epoch 131/150\n",
      "214/214 [==============================] - 128s 600ms/step - loss: 1.0039 - accuracy: 0.7027 - val_loss: 1.3356 - val_accuracy: 0.5730\n",
      "Epoch 132/150\n",
      "214/214 [==============================] - 120s 562ms/step - loss: 1.0234 - accuracy: 0.6915 - val_loss: 1.1697 - val_accuracy: 0.6437\n",
      "Epoch 133/150\n",
      "213/214 [============================>.] - ETA: 0s - loss: 0.9704 - accuracy: 0.7116\n",
      "Epoch 00133: ReduceLROnPlateau reducing learning rate to 0.00039721422654110934.\n",
      "214/214 [==============================] - 125s 583ms/step - loss: 0.9726 - accuracy: 0.7101 - val_loss: 1.1781 - val_accuracy: 0.6547\n",
      "Epoch 134/150\n",
      "214/214 [==============================] - 120s 559ms/step - loss: 1.0500 - accuracy: 0.6771 - val_loss: 1.2434 - val_accuracy: 0.6068\n",
      "Epoch 135/150\n",
      "214/214 [==============================] - 124s 581ms/step - loss: 0.9412 - accuracy: 0.7144 - val_loss: 1.1775 - val_accuracy: 0.6508\n",
      "Epoch 136/150\n",
      "214/214 [==============================] - 119s 558ms/step - loss: 1.0299 - accuracy: 0.6845 - val_loss: 1.2329 - val_accuracy: 0.6330\n",
      "Epoch 137/150\n",
      "213/214 [============================>.] - ETA: 0s - loss: 1.0109 - accuracy: 0.6916\n",
      "Epoch 00137: ReduceLROnPlateau reducing learning rate to 0.00037735351797891776.\n",
      "214/214 [==============================] - 127s 593ms/step - loss: 1.0156 - accuracy: 0.6895 - val_loss: 1.2429 - val_accuracy: 0.6275\n",
      "Epoch 138/150\n",
      "214/214 [==============================] - 122s 571ms/step - loss: 0.9612 - accuracy: 0.7097 - val_loss: 1.2708 - val_accuracy: 0.6017\n",
      "Epoch 139/150\n",
      "214/214 [==============================] - 122s 570ms/step - loss: 0.9809 - accuracy: 0.7060 - val_loss: 1.1928 - val_accuracy: 0.6440\n",
      "Epoch 140/150\n",
      "214/214 [==============================] - 119s 557ms/step - loss: 1.0098 - accuracy: 0.6933 - val_loss: 1.1107 - val_accuracy: 0.6605\n",
      "Epoch 141/150\n",
      "214/214 [==============================] - 120s 559ms/step - loss: 0.9892 - accuracy: 0.6997 - val_loss: 1.3182 - val_accuracy: 0.6053\n",
      "Epoch 142/150\n",
      "214/214 [==============================] - 123s 573ms/step - loss: 0.9699 - accuracy: 0.7067 - val_loss: 1.1561 - val_accuracy: 0.6474\n",
      "Epoch 143/150\n",
      "213/214 [============================>.] - ETA: 0s - loss: 0.9575 - accuracy: 0.7135\n",
      "Epoch 00143: ReduceLROnPlateau reducing learning rate to 0.00035848583793267607.\n",
      "214/214 [==============================] - 126s 587ms/step - loss: 0.9563 - accuracy: 0.7140 - val_loss: 1.1964 - val_accuracy: 0.6435\n",
      "Epoch 144/150\n"
     ]
    },
    {
     "name": "stdout",
     "output_type": "stream",
     "text": [
      "214/214 [==============================] - 128s 597ms/step - loss: 0.9899 - accuracy: 0.6921 - val_loss: 1.1950 - val_accuracy: 0.6281\n",
      "Epoch 145/150\n",
      "214/214 [==============================] - 118s 550ms/step - loss: 0.8871 - accuracy: 0.7404 - val_loss: 1.1572 - val_accuracy: 0.6503\n",
      "Epoch 146/150\n",
      "214/214 [==============================] - 115s 539ms/step - loss: 0.9908 - accuracy: 0.6940 - val_loss: 1.1863 - val_accuracy: 0.6506\n",
      "Epoch 147/150\n",
      "213/214 [============================>.] - ETA: 0s - loss: 0.9733 - accuracy: 0.7082\n",
      "Epoch 00147: ReduceLROnPlateau reducing learning rate to 0.00034056155709549785.\n",
      "214/214 [==============================] - 113s 527ms/step - loss: 0.9717 - accuracy: 0.7088 - val_loss: 1.1896 - val_accuracy: 0.6104\n",
      "Epoch 148/150\n",
      "214/214 [==============================] - 116s 540ms/step - loss: 0.9299 - accuracy: 0.7184 - val_loss: 1.1664 - val_accuracy: 0.6423\n",
      "Epoch 149/150\n",
      "214/214 [==============================] - 118s 549ms/step - loss: 0.9873 - accuracy: 0.6963 - val_loss: 1.1044 - val_accuracy: 0.6542\n",
      "Epoch 150/150\n",
      "214/214 [==============================] - 113s 526ms/step - loss: 0.8931 - accuracy: 0.7352 - val_loss: 1.1246 - val_accuracy: 0.6598\n"
     ]
    }
   ],
   "source": [
    "hist = model.fit_generator(\n",
    "    train_generator,\n",
    "    steps_per_epoch=steps_per_epoch,\n",
    "    validation_data=validation_generator,\n",
    "    validation_steps=val_steps,\n",
    "    epochs=150,\n",
    "    verbose=1,\n",
    "    callbacks=[reduceLROnPlat])"
   ]
  },
  {
   "cell_type": "code",
   "execution_count": 20,
   "metadata": {},
   "outputs": [
    {
     "name": "stdout",
     "output_type": "stream",
     "text": [
      "val_loss = 1.068 and val_acc = 0.676\n"
     ]
    }
   ],
   "source": [
    "score = model.evaluate(X_test, y_test, verbose=0)\n",
    "print(\"val_loss = {:.3f} and val_acc = {:.3f}\".format(score[0], score[1]))"
   ]
  },
  {
   "cell_type": "code",
   "execution_count": 21,
   "metadata": {},
   "outputs": [
    {
     "data": {
      "image/png": "[encoded data removed]",
      "text/plain": [
       "<Figure size 1080x504 with 2 Axes>"
      ]
     },
     "metadata": {
      "needs_background": "light"
     },
     "output_type": "display_data"
    }
   ],
   "source": [
    "plt.figure(figsize=(15,7))\n",
    "\n",
    "plt.subplot(1,2,1)\n",
    "plt.plot(hist.history['accuracy'], label='train')\n",
    "plt.plot(hist.history['val_accuracy'], label='validation')\n",
    "plt.title('Accuracy')\n",
    "plt.xlabel('Epochs')\n",
    "plt.ylabel('Accuracy')\n",
    "plt.legend()\n",
    "\n",
    "plt.subplot(1,2,2)\n",
    "plt.plot(hist.history['loss'], label='train')\n",
    "plt.plot(hist.history['val_loss'], label='validation')\n",
    "plt.title('Loss')\n",
    "plt.xlabel('Epochs')\n",
    "plt.ylabel('Loss')\n",
    "plt.legend()\n",
    "\n",
    "plt.tight_layout()\n",
    "plt.show()"
   ]
  },
  {
   "cell_type": "code",
   "execution_count": 22,
   "metadata": {},
   "outputs": [],
   "source": [
    "#http://scikit-learn.org/stable/auto_examples/model_selection/plot_confusion_matrix.html\n",
    "def plot_confusion_matrix(cm, classes,\n",
    "                          normalize=False,\n",
    "                          title='Confusion matrix',\n",
    "                          cmap=plt.cm.Blues):\n",
    "    \"\"\"\n",
    "    This function prints and plots the confusion matrix.\n",
    "    Normalization can be applied by setting `normalize=True`.\n",
    "    \"\"\"\n",
    "    if normalize:\n",
    "        cm = cm.astype('float') / cm.sum(axis=1)[:, np.newaxis]\n",
    "        print(\"Normalized confusion matrix\")\n",
    "    else:\n",
    "        print('Confusion matrix, without normalization')\n",
    "\n",
    "    plt.imshow(cm, interpolation='nearest', cmap=cmap)\n",
    "    plt.title(title)\n",
    "    plt.colorbar()\n",
    "    tick_marks = np.arange(len(classes))\n",
    "    plt.xticks(tick_marks, classes, rotation=45)\n",
    "    plt.yticks(tick_marks, classes)\n",
    "\n",
    "    fmt = '.2f' if normalize else 'd'\n",
    "    thresh = cm.max() / 2.\n",
    "    for i, j in itertools.product(range(cm.shape[0]), range(cm.shape[1])):\n",
    "        plt.text(j, i, format(cm[i, j], fmt),\n",
    "                 horizontalalignment=\"center\",\n",
    "                 color=\"white\" if cm[i, j] > thresh else \"black\")\n",
    "\n",
    "    plt.tight_layout()\n",
    "    plt.ylabel('True label')\n",
    "    plt.xlabel('Predicted label')"
   ]
  },
  {
   "cell_type": "code",
   "execution_count": 23,
   "metadata": {},
   "outputs": [],
   "source": [
    "preds = np.argmax(model.predict(X_test), axis = 1)\n",
    "y_orig = np.argmax(y_test, axis = 1)\n",
    "cm = confusion_matrix(preds, y_orig)"
   ]
  },
  {
   "cell_type": "code",
   "execution_count": 24,
   "metadata": {},
   "outputs": [
    {
     "name": "stdout",
     "output_type": "stream",
     "text": [
      "Normalized confusion matrix\n"
     ]
    },
    {
     "data": {
      "image/png": "[encoded data removed]",
      "text/plain": [
       "<Figure size 720x720 with 2 Axes>"
      ]
     },
     "metadata": {
      "needs_background": "light"
     },
     "output_type": "display_data"
    }
   ],
   "source": [
    "keys = OrderedDict(sorted(genres.items(), key=lambda t: t[1])).keys()\n",
    "\n",
    "plt.figure(figsize=(10,10))\n",
    "plot_confusion_matrix(cm, keys, normalize=True)"
   ]
  },
  {
   "cell_type": "markdown",
   "metadata": {},
   "source": [
    "## Majority Vote"
   ]
  },
  {
   "cell_type": "code",
   "execution_count": 25,
   "metadata": {},
   "outputs": [],
   "source": [
    "def majority_vote(scores):\n",
    "    values, counts = np.unique(scores,return_counts=True)\n",
    "    ind = np.argmax(counts)\n",
    "    return values[ind]"
   ]
  },
  {
   "cell_type": "code",
   "execution_count": 26,
   "metadata": {},
   "outputs": [],
   "source": [
    "preds = model.predict(X_test, batch_size=128, verbose=0)"
   ]
  },
  {
   "cell_type": "code",
   "execution_count": 27,
   "metadata": {},
   "outputs": [],
   "source": [
    "# Each sound was divided into 39 segments in our custom function\n",
    "scores_songs = np.split(np.argmax(preds, axis=1), 300)\n",
    "scores_songs = [majority_vote(scores) for scores in scores_songs]"
   ]
  },
  {
   "cell_type": "code",
   "execution_count": 28,
   "metadata": {},
   "outputs": [],
   "source": [
    "# Same analysis for split\n",
    "label = np.split(np.argmax(y_test, axis=1), 300)\n",
    "label = [majority_vote(l) for l in label]"
   ]
  },
  {
   "cell_type": "code",
   "execution_count": 29,
   "metadata": {},
   "outputs": [
    {
     "name": "stdout",
     "output_type": "stream",
     "text": [
      "majority voting system (acc) = 0.740\n"
     ]
    }
   ],
   "source": [
    "from sklearn.metrics import accuracy_score\n",
    "\n",
    "print(\"majority voting system (acc) = {:.3f}\".format(accuracy_score(label, scores_songs)))"
   ]
  },
  {
   "cell_type": "markdown",
   "metadata": {},
   "source": [
    "Compared to the classical approach, we are winning now!\n",
    "\n",
    "We passed from a 78.8% accuracy to **82%**. It is not a great improvement but this is a really simple architecture."
   ]
  },
  {
   "cell_type": "markdown",
   "metadata": {},
   "source": [
    "## Save the model"
   ]
  },
  {
   "cell_type": "code",
   "execution_count": 30,
   "metadata": {},
   "outputs": [],
   "source": [
    "# Save the model\n",
    "model.save('../models/custom_cnn_2d.h5')"
   ]
  },
  {
   "cell_type": "code",
   "execution_count": null,
   "metadata": {},
   "outputs": [],
   "source": []
  }
 ],
 "metadata": {
  "kernelspec": {
   "display_name": "Python 3",
   "language": "python",
   "name": "python3"
  },
  "language_info": {
   "codemirror_mode": {
    "name": "ipython",
    "version": 3
   },
   "file_extension": ".py",
   "mimetype": "text/x-python",
   "name": "python",
   "nbconvert_exporter": "python",
   "pygments_lexer": "ipython3",
   "version": "3.7.5"
  }
 },
 "nbformat": 4,
 "nbformat_minor": 2
}
