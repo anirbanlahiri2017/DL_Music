{
 "cells": [
  {
   "cell_type": "code",
   "execution_count": 22,
   "metadata": {},
   "outputs": [],
   "source": [
    "import os\n",
    "import h5py\n",
    "import librosa\n",
    "import itertools\n",
    "from copy import copy\n",
    "import numpy as np\n",
    "import matplotlib.pyplot as plt\n",
    "from collections import OrderedDict\n",
    "from sklearn.model_selection import train_test_split\n",
    "from sklearn.metrics import confusion_matrix"
   ]
  },
  {
   "cell_type": "code",
   "execution_count": 23,
   "metadata": {},
   "outputs": [],
   "source": [
    "import tensorflow as tf\n",
    "from tensorflow.keras.utils import to_categorical\n",
    "from tensorflow.keras.models import Model\n",
    "from tensorflow.keras.layers import Input\n",
    "from tensorflow.keras.models import Sequential\n",
    "from tensorflow.keras.layers import Add\n",
    "from tensorflow.keras.layers import Dense\n",
    "from tensorflow.keras.layers import Activation\n",
    "from tensorflow.keras.layers import PReLU\n",
    "from tensorflow.keras.layers import Conv2D,concatenate,Lambda,Bidirectional,GRU\n",
    "from tensorflow.keras.layers import MaxPooling2D\n",
    "from tensorflow.keras.layers import AveragePooling2D\n",
    "from tensorflow.keras.layers import GlobalAveragePooling2D\n",
    "from tensorflow.keras.layers import GlobalMaxPooling2D\n",
    "from tensorflow.keras.layers import Dropout\n",
    "from tensorflow.keras.layers import Flatten\n",
    "from tensorflow.keras.layers import BatchNormalization\n",
    "from tensorflow.keras.callbacks import ReduceLROnPlateau\n",
    "from tensorflow.keras import backend as K\n",
    "import tensorflow.keras.callbacks"
   ]
  },
  {
   "cell_type": "code",
   "execution_count": 24,
   "metadata": {},
   "outputs": [],
   "source": [
    "# For reproducibility purposes\n",
    "np.random.seed(42)"
   ]
  },
  {
   "cell_type": "markdown",
   "metadata": {},
   "source": [
    "# Read the data\n",
    "\n",
    "> Helper functions to assist the process to read songs, split then and return an array of spectrograms/melspectrograms"
   ]
  },
  {
   "cell_type": "code",
   "execution_count": 25,
   "metadata": {},
   "outputs": [],
   "source": [
    "\"\"\"\n",
    "@description: Method to split a song into multiple songs using overlapping windows\n",
    "\"\"\"\n",
    "def splitsongs(X, y, window = 0.05, overlap = 0.5):\n",
    "    # Empty lists to hold our results\n",
    "    temp_X = []\n",
    "    temp_y = []\n",
    "\n",
    "    # Get the input song array size\n",
    "    xshape = X.shape[0]\n",
    "    chunk = int(xshape*window)\n",
    "    offset = int(chunk*(1.-overlap))\n",
    "    \n",
    "    # Split the song and create new ones on windows\n",
    "    spsong = [X[i:i+chunk] for i in range(0, xshape - chunk + offset, offset)]\n",
    "    for s in spsong:\n",
    "        if s.shape[0] != chunk:\n",
    "            continue\n",
    "\n",
    "        temp_X.append(s)\n",
    "        temp_y.append(y)\n",
    "\n",
    "    return np.array(temp_X), np.array(temp_y)"
   ]
  },
  {
   "cell_type": "code",
   "execution_count": 26,
   "metadata": {},
   "outputs": [],
   "source": [
    "\"\"\"\n",
    "@description: Method to convert a list of songs to a np array of melspectrograms\n",
    "\"\"\"\n",
    "def to_melspectrogram(songs, n_fft=1024, hop_length=512):\n",
    "    # Transformation function\n",
    "    melspec = lambda x: librosa.feature.melspectrogram(x, n_fft=n_fft,\n",
    "        hop_length=hop_length, n_mels=64)[:,:,np.newaxis]\n",
    "\n",
    "    # map transformation of input songs to melspectrogram using log-scale\n",
    "    tsongs = map(melspec, songs)\n",
    "    # np.array([librosa.power_to_db(s, ref=np.max) for s in list(tsongs)])\n",
    "    return np.array(list(tsongs))"
   ]
  },
  {
   "cell_type": "code",
   "execution_count": 27,
   "metadata": {},
   "outputs": [],
   "source": [
    "def split_convert(X, y):\n",
    "    arr_specs, arr_genres = [], []\n",
    "    \n",
    "    # Convert to spectrograms and split into small windows\n",
    "    for fn, genre in zip(X, y):\n",
    "        signal, sr = librosa.load(fn)\n",
    "        signal = signal[:song_samples]\n",
    "\n",
    "        # Convert to dataset of spectograms/melspectograms\n",
    "        signals, y = splitsongs(signal, genre)\n",
    "\n",
    "        # Convert to \"spec\" representation\n",
    "        specs = to_melspectrogram(signals)\n",
    "\n",
    "        # Save files\n",
    "        arr_genres.extend(y)\n",
    "        arr_specs.extend(specs)\n",
    "    \n",
    "    return np.array(arr_specs), to_categorical(arr_genres)"
   ]
  },
  {
   "cell_type": "code",
   "execution_count": 28,
   "metadata": {},
   "outputs": [],
   "source": [
    "def read_data(src_dir, genres, song_samples):    \n",
    "    # Empty array of dicts with the processed features from all files\n",
    "    arr_fn = []\n",
    "    arr_genres = []\n",
    "\n",
    "    # Get file list from the folders\n",
    "    for x,_ in genres.items():\n",
    "        folder = src_dir + x\n",
    "        for root, subdirs, files in os.walk(folder):\n",
    "            for file in files:\n",
    "                file_name = folder + \"/\" + file\n",
    "\n",
    "                # Save the file name and the genre\n",
    "                arr_fn.append(file_name)\n",
    "                arr_genres.append(genres[x])\n",
    "    \n",
    "    # Split into train and test\n",
    "    X_train, X_test, y_train, y_test = train_test_split(\n",
    "        arr_fn, arr_genres, test_size=0.3, random_state=42, stratify=arr_genres\n",
    "    )\n",
    "    \n",
    "    # Split into small segments and convert to spectrogram\n",
    "    X_train, y_train = split_convert(X_train, y_train)\n",
    "    X_test, y_test = split_convert(X_test, y_test)\n",
    "\n",
    "    return X_train, X_test, y_train, y_test"
   ]
  },
  {
   "cell_type": "code",
   "execution_count": 29,
   "metadata": {},
   "outputs": [],
   "source": [
    "# Parameters\n",
    "gtzan_dir = '/Users/anirbanl/Academic/Deep_Learning/genres/'\n",
    "song_samples = 660000\n",
    "genres = {'metal': 0, 'disco': 1, 'classical': 2, 'hiphop': 3, 'jazz': 4, \n",
    "          'country': 5, 'pop': 6, 'blues': 7, 'reggae': 8, 'rock': 9}\n",
    "\n",
    "# Read the data\n",
    "X_train, X_test, y_train, y_test = read_data(gtzan_dir, genres, song_samples)"
   ]
  },
  {
   "cell_type": "code",
   "execution_count": 30,
   "metadata": {},
   "outputs": [
    {
     "name": "stdout",
     "output_type": "stream",
     "text": [
      "(27300, 64, 65, 1) (11700, 64, 65, 1) (27300, 10) (11700, 10)\n"
     ]
    }
   ],
   "source": [
    "print(X_train.shape, X_test.shape, y_train.shape, y_test.shape)"
   ]
  },
  {
   "cell_type": "code",
   "execution_count": 31,
   "metadata": {},
   "outputs": [
    {
     "data": {
      "image/png": "[encoded data removed]",
      "text/plain": [
       "<Figure size 432x288 with 1 Axes>"
      ]
     },
     "metadata": {
      "needs_background": "light"
     },
     "output_type": "display_data"
    }
   ],
   "source": [
    "# Histogram for train and test \n",
    "values, count = np.unique(np.argmax(y_train, axis=1), return_counts=True)\n",
    "plt.bar(values, count)\n",
    "\n",
    "values, count = np.unique(np.argmax(y_test, axis=1), return_counts=True)\n",
    "plt.bar(values, count)\n",
    "plt.show()"
   ]
  },
  {
   "cell_type": "code",
   "execution_count": 32,
   "metadata": {},
   "outputs": [],
   "source": [
    "def conv_block(x, n_filters, pool_size=(2, 2)):\n",
    "    x = Conv2D(n_filters, (3, 3), strides=(1, 1))(x)\n",
    "    x = Activation('relu')(x)\n",
    "    x = MaxPooling2D(pool_size=pool_size, strides=pool_size)(x)\n",
    "    x = Dropout(0.25)(x)\n",
    "    return x"
   ]
  },
  {
   "cell_type": "code",
   "execution_count": 33,
   "metadata": {},
   "outputs": [],
   "source": [
    "# Model Definition\n",
    "def create_model(input_shape, num_genres):\n",
    "    inpt = Input(shape=input_shape)\n",
    "    layer1=inpt#Input(shape=input_shape)\n",
    "    x = conv_block(inpt, 16)\n",
    "    x = conv_block(x, 32)\n",
    "    x = conv_block(x, 32)\n",
    "    x = conv_block(x, 64)\n",
    "    x = Flatten()(x)\n",
    "    x = Dropout(0.3)(x)    \n",
    "    pool_lstm1 = MaxPooling2D((2,2), name = 'pool_lstm',strides=(2,2))(layer1)\n",
    "    squeezed = Lambda(lambda y: K.squeeze(y, axis= -1))(pool_lstm1)\n",
    "    lstm = Bidirectional(GRU(64))(squeezed) \n",
    "    concat = concatenate([x, lstm], axis=-1, name ='concat')    \n",
    "    x = Dense(64, activation='relu', \n",
    "              kernel_regularizer=tf.keras.regularizers.l2(0.02))(concat)\n",
    "    x = Dropout(0.25)(x)\n",
    "    predictions = Dense(num_genres,activation='softmax', \n",
    "                        kernel_regularizer=tf.keras.regularizers.l2(0.02))(x)\n",
    "    \n",
    "    model = Model(inputs=inpt, outputs=predictions)\n",
    "    return model"
   ]
  },
  {
   "cell_type": "code",
   "execution_count": 34,
   "metadata": {},
   "outputs": [],
   "source": [
    "model = create_model(X_train[0].shape, 10)"
   ]
  },
  {
   "cell_type": "code",
   "execution_count": 35,
   "metadata": {},
   "outputs": [
    {
     "name": "stdout",
     "output_type": "stream",
     "text": [
      "Model: \"model_1\"\n",
      "__________________________________________________________________________________________________\n",
      "Layer (type)                    Output Shape         Param #     Connected to                     \n",
      "==================================================================================================\n",
      "input_2 (InputLayer)            [(None, 64, 65, 1)]  0                                            \n",
      "__________________________________________________________________________________________________\n",
      "conv2d_4 (Conv2D)               (None, 62, 63, 16)   160         input_2[0][0]                    \n",
      "__________________________________________________________________________________________________\n",
      "activation_4 (Activation)       (None, 62, 63, 16)   0           conv2d_4[0][0]                   \n",
      "__________________________________________________________________________________________________\n",
      "max_pooling2d_4 (MaxPooling2D)  (None, 31, 31, 16)   0           activation_4[0][0]               \n",
      "__________________________________________________________________________________________________\n",
      "dropout_6 (Dropout)             (None, 31, 31, 16)   0           max_pooling2d_4[0][0]            \n",
      "__________________________________________________________________________________________________\n",
      "conv2d_5 (Conv2D)               (None, 29, 29, 32)   4640        dropout_6[0][0]                  \n",
      "__________________________________________________________________________________________________\n",
      "activation_5 (Activation)       (None, 29, 29, 32)   0           conv2d_5[0][0]                   \n",
      "__________________________________________________________________________________________________\n",
      "max_pooling2d_5 (MaxPooling2D)  (None, 14, 14, 32)   0           activation_5[0][0]               \n",
      "__________________________________________________________________________________________________\n",
      "dropout_7 (Dropout)             (None, 14, 14, 32)   0           max_pooling2d_5[0][0]            \n",
      "__________________________________________________________________________________________________\n",
      "conv2d_6 (Conv2D)               (None, 12, 12, 32)   9248        dropout_7[0][0]                  \n",
      "__________________________________________________________________________________________________\n",
      "activation_6 (Activation)       (None, 12, 12, 32)   0           conv2d_6[0][0]                   \n",
      "__________________________________________________________________________________________________\n",
      "max_pooling2d_6 (MaxPooling2D)  (None, 6, 6, 32)     0           activation_6[0][0]               \n",
      "__________________________________________________________________________________________________\n",
      "dropout_8 (Dropout)             (None, 6, 6, 32)     0           max_pooling2d_6[0][0]            \n",
      "__________________________________________________________________________________________________\n",
      "conv2d_7 (Conv2D)               (None, 4, 4, 64)     18496       dropout_8[0][0]                  \n",
      "__________________________________________________________________________________________________\n",
      "activation_7 (Activation)       (None, 4, 4, 64)     0           conv2d_7[0][0]                   \n",
      "__________________________________________________________________________________________________\n",
      "max_pooling2d_7 (MaxPooling2D)  (None, 2, 2, 64)     0           activation_7[0][0]               \n",
      "__________________________________________________________________________________________________\n",
      "dropout_9 (Dropout)             (None, 2, 2, 64)     0           max_pooling2d_7[0][0]            \n",
      "__________________________________________________________________________________________________\n",
      "pool_lstm (MaxPooling2D)        (None, 32, 32, 1)    0           input_2[0][0]                    \n",
      "__________________________________________________________________________________________________\n",
      "flatten_1 (Flatten)             (None, 256)          0           dropout_9[0][0]                  \n",
      "__________________________________________________________________________________________________\n",
      "lambda_1 (Lambda)               (None, 32, 32)       0           pool_lstm[0][0]                  \n",
      "__________________________________________________________________________________________________\n",
      "dropout_10 (Dropout)            (None, 256)          0           flatten_1[0][0]                  \n",
      "__________________________________________________________________________________________________\n",
      "bidirectional (Bidirectional)   (None, 128)          37632       lambda_1[0][0]                   \n",
      "__________________________________________________________________________________________________\n",
      "concat (Concatenate)            (None, 384)          0           dropout_10[0][0]                 \n",
      "                                                                 bidirectional[0][0]              \n",
      "__________________________________________________________________________________________________\n",
      "dense_2 (Dense)                 (None, 64)           24640       concat[0][0]                     \n",
      "__________________________________________________________________________________________________\n",
      "dropout_11 (Dropout)            (None, 64)           0           dense_2[0][0]                    \n",
      "__________________________________________________________________________________________________\n",
      "dense_3 (Dense)                 (None, 10)           650         dropout_11[0][0]                 \n",
      "==================================================================================================\n",
      "Total params: 95,466\n",
      "Trainable params: 95,466\n",
      "Non-trainable params: 0\n",
      "__________________________________________________________________________________________________\n"
     ]
    }
   ],
   "source": [
    "model.summary()"
   ]
  },
  {
   "cell_type": "markdown",
   "metadata": {},
   "source": [
    "### Loss function"
   ]
  },
  {
   "cell_type": "code",
   "execution_count": 36,
   "metadata": {},
   "outputs": [],
   "source": [
    "model.compile(loss=tf.keras.losses.categorical_crossentropy,\n",
    "              optimizer=tf.keras.optimizers.Adam(),\n",
    "              metrics=['accuracy'])"
   ]
  },
  {
   "cell_type": "code",
   "execution_count": 37,
   "metadata": {},
   "outputs": [],
   "source": [
    "reduceLROnPlat = ReduceLROnPlateau(\n",
    "    monitor='val_loss', \n",
    "    factor=0.95,\n",
    "    patience=3,\n",
    "    verbose=1,\n",
    "    mode='min',\n",
    "    min_delta=0.0001,\n",
    "    cooldown=2,\n",
    "    min_lr=1e-5\n",
    ")"
   ]
  },
  {
   "cell_type": "code",
   "execution_count": 38,
   "metadata": {},
   "outputs": [],
   "source": [
    "\n",
    "class WeightsSaver(tensorflow.keras.callbacks.Callback):\n",
    "    def __init__(self, N):\n",
    "        self.N = N\n",
    "        self.batch = 0\n",
    "\n",
    "    def on_epoch_end(self, batch, logs={}):\n",
    "        if self.batch % self.N == 0:\n",
    "            name = '../models/CNN_GRUweights%03d.h5' % self.batch\n",
    "            self.model.save_weights(name)\n",
    "        self.batch += 1"
   ]
  },
  {
   "cell_type": "code",
   "execution_count": 39,
   "metadata": {},
   "outputs": [
    {
     "name": "stdout",
     "output_type": "stream",
     "text": [
      "Train on 27300 samples, validate on 11700 samples\n",
      "Epoch 1/100\n",
      "27300/27300 [==============================] - 66s 2ms/sample - loss: 3.5989 - accuracy: 0.2307 - val_loss: 2.6194 - val_accuracy: 0.3292\n",
      "Epoch 2/100\n",
      "27300/27300 [==============================] - 66s 2ms/sample - loss: 2.2432 - accuracy: 0.3791 - val_loss: 2.0913 - val_accuracy: 0.3751\n",
      "Epoch 3/100\n",
      "27300/27300 [==============================] - 60s 2ms/sample - loss: 1.9041 - accuracy: 0.4396 - val_loss: 1.8630 - val_accuracy: 0.4233\n",
      "Epoch 4/100\n",
      "27300/27300 [==============================] - 59s 2ms/sample - loss: 1.7227 - accuracy: 0.4835 - val_loss: 1.7274 - val_accuracy: 0.4637\n",
      "Epoch 5/100\n",
      "27300/27300 [==============================] - 60s 2ms/sample - loss: 1.6138 - accuracy: 0.5140 - val_loss: 1.6287 - val_accuracy: 0.4928\n",
      "Epoch 6/100\n",
      "27300/27300 [==============================] - 59s 2ms/sample - loss: 1.5491 - accuracy: 0.5344 - val_loss: 1.5836 - val_accuracy: 0.5047\n",
      "Epoch 7/100\n",
      "27300/27300 [==============================] - 61s 2ms/sample - loss: 1.4836 - accuracy: 0.5558 - val_loss: 1.5458 - val_accuracy: 0.5236\n",
      "Epoch 8/100\n",
      "27300/27300 [==============================] - 65s 2ms/sample - loss: 1.4506 - accuracy: 0.5647 - val_loss: 1.5164 - val_accuracy: 0.5332\n",
      "Epoch 9/100\n",
      "27300/27300 [==============================] - 61s 2ms/sample - loss: 1.4101 - accuracy: 0.5790 - val_loss: 1.4922 - val_accuracy: 0.5395\n",
      "Epoch 10/100\n",
      "27300/27300 [==============================] - 66s 2ms/sample - loss: 1.3924 - accuracy: 0.5884 - val_loss: 1.5097 - val_accuracy: 0.5349\n",
      "Epoch 11/100\n",
      "27300/27300 [==============================] - 64s 2ms/sample - loss: 1.3671 - accuracy: 0.5988 - val_loss: 1.4686 - val_accuracy: 0.5482\n",
      "Epoch 12/100\n",
      "27300/27300 [==============================] - 62s 2ms/sample - loss: 1.3477 - accuracy: 0.6051 - val_loss: 1.4522 - val_accuracy: 0.5521\n",
      "Epoch 13/100\n",
      "27300/27300 [==============================] - 63s 2ms/sample - loss: 1.3292 - accuracy: 0.6058 - val_loss: 1.4484 - val_accuracy: 0.5569\n",
      "Epoch 14/100\n",
      "27300/27300 [==============================] - 61s 2ms/sample - loss: 1.3102 - accuracy: 0.6154 - val_loss: 1.4575 - val_accuracy: 0.5553\n",
      "Epoch 15/100\n",
      "27300/27300 [==============================] - 61s 2ms/sample - loss: 1.2963 - accuracy: 0.6225 - val_loss: 1.4362 - val_accuracy: 0.5668\n",
      "Epoch 16/100\n",
      "27300/27300 [==============================] - 62s 2ms/sample - loss: 1.2783 - accuracy: 0.6258 - val_loss: 1.4061 - val_accuracy: 0.5770\n",
      "Epoch 17/100\n",
      "27300/27300 [==============================] - 64s 2ms/sample - loss: 1.2644 - accuracy: 0.6329 - val_loss: 1.4062 - val_accuracy: 0.5750\n",
      "Epoch 18/100\n",
      "27300/27300 [==============================] - 60s 2ms/sample - loss: 1.2492 - accuracy: 0.6387 - val_loss: 1.4151 - val_accuracy: 0.5719\n",
      "Epoch 19/100\n",
      "27300/27300 [==============================] - 59s 2ms/sample - loss: 1.2412 - accuracy: 0.6464 - val_loss: 1.3874 - val_accuracy: 0.5852\n",
      "Epoch 20/100\n",
      "27300/27300 [==============================] - 60s 2ms/sample - loss: 1.2163 - accuracy: 0.6528 - val_loss: 1.3802 - val_accuracy: 0.5872\n",
      "Epoch 21/100\n",
      "27300/27300 [==============================] - 62s 2ms/sample - loss: 1.2220 - accuracy: 0.6516 - val_loss: 1.4304 - val_accuracy: 0.5826\n",
      "Epoch 22/100\n",
      "27300/27300 [==============================] - 60s 2ms/sample - loss: 1.2314 - accuracy: 0.6485 - val_loss: 1.3827 - val_accuracy: 0.5927\n",
      "Epoch 23/100\n",
      "27300/27300 [==============================] - 60s 2ms/sample - loss: 1.1953 - accuracy: 0.6611 - val_loss: 1.3661 - val_accuracy: 0.5950\n",
      "Epoch 24/100\n",
      "27300/27300 [==============================] - 61s 2ms/sample - loss: 1.1826 - accuracy: 0.6666 - val_loss: 1.3613 - val_accuracy: 0.6015\n",
      "Epoch 25/100\n",
      "27300/27300 [==============================] - 60s 2ms/sample - loss: 1.1792 - accuracy: 0.6692 - val_loss: 1.3769 - val_accuracy: 0.6021\n",
      "Epoch 26/100\n",
      "27300/27300 [==============================] - 60s 2ms/sample - loss: 1.1723 - accuracy: 0.6704 - val_loss: 1.3354 - val_accuracy: 0.6091\n",
      "Epoch 27/100\n",
      "27300/27300 [==============================] - 60s 2ms/sample - loss: 1.1443 - accuracy: 0.6785 - val_loss: 1.3368 - val_accuracy: 0.6122\n",
      "Epoch 28/100\n",
      "27300/27300 [==============================] - 59s 2ms/sample - loss: 1.1367 - accuracy: 0.6827 - val_loss: 1.3371 - val_accuracy: 0.6129\n",
      "Epoch 29/100\n",
      "27300/27300 [==============================] - 70s 3ms/sample - loss: 1.1350 - accuracy: 0.6839 - val_loss: 1.3129 - val_accuracy: 0.6134\n",
      "Epoch 30/100\n",
      "27300/27300 [==============================] - 59s 2ms/sample - loss: 1.1169 - accuracy: 0.6889 - val_loss: 1.3204 - val_accuracy: 0.6193\n",
      "Epoch 31/100\n",
      "27300/27300 [==============================] - 59s 2ms/sample - loss: 1.1121 - accuracy: 0.6938 - val_loss: 1.3454 - val_accuracy: 0.6098\n",
      "Epoch 32/100\n",
      "27300/27300 [==============================] - 60s 2ms/sample - loss: 1.0991 - accuracy: 0.6973 - val_loss: 1.3246 - val_accuracy: 0.6136\n",
      "Epoch 33/100\n",
      "27300/27300 [==============================] - 58s 2ms/sample - loss: 1.1033 - accuracy: 0.6962 - val_loss: 1.3052 - val_accuracy: 0.6267\n",
      "Epoch 34/100\n",
      "27300/27300 [==============================] - 58s 2ms/sample - loss: 1.0752 - accuracy: 0.7074 - val_loss: 1.2974 - val_accuracy: 0.6234\n",
      "Epoch 35/100\n",
      "27300/27300 [==============================] - 58s 2ms/sample - loss: 1.0762 - accuracy: 0.7046 - val_loss: 1.3032 - val_accuracy: 0.6321\n",
      "Epoch 36/100\n",
      "27300/27300 [==============================] - 59s 2ms/sample - loss: 1.0689 - accuracy: 0.7064 - val_loss: 1.2991 - val_accuracy: 0.6245\n",
      "Epoch 37/100\n",
      "27300/27300 [==============================] - 61s 2ms/sample - loss: 1.0594 - accuracy: 0.7091 - val_loss: 1.3094 - val_accuracy: 0.6251\n",
      "Epoch 38/100\n",
      "27300/27300 [==============================] - 59s 2ms/sample - loss: 1.0515 - accuracy: 0.7161 - val_loss: 1.2965 - val_accuracy: 0.6270\n",
      "Epoch 39/100\n",
      "27300/27300 [==============================] - 60s 2ms/sample - loss: 1.0469 - accuracy: 0.7183 - val_loss: 1.3323 - val_accuracy: 0.6189\n",
      "Epoch 40/100\n",
      "27300/27300 [==============================] - 55s 2ms/sample - loss: 1.0480 - accuracy: 0.7170 - val_loss: 1.3052 - val_accuracy: 0.6256\n",
      "Epoch 41/100\n",
      "27300/27300 [==============================] - 58s 2ms/sample - loss: 1.0258 - accuracy: 0.7245 - val_loss: 1.2896 - val_accuracy: 0.6292\n",
      "Epoch 42/100\n",
      "27300/27300 [==============================] - 61s 2ms/sample - loss: 1.0295 - accuracy: 0.7268 - val_loss: 1.2919 - val_accuracy: 0.6294\n",
      "Epoch 43/100\n",
      "27136/27300 [============================>.] - ETA: 0s - loss: 1.0220 - accuracy: 0.7270\n",
      "Epoch 00043: ReduceLROnPlateau reducing learning rate to 0.0005000000237487257.\n",
      "27300/27300 [==============================] - 58s 2ms/sample - loss: 1.0232 - accuracy: 0.7265 - val_loss: 1.3049 - val_accuracy: 0.6335\n",
      "Epoch 44/100\n",
      "27300/27300 [==============================] - 56s 2ms/sample - loss: 0.9898 - accuracy: 0.7404 - val_loss: 1.2703 - val_accuracy: 0.6355\n",
      "Epoch 45/100\n",
      "27300/27300 [==============================] - 57s 2ms/sample - loss: 0.9710 - accuracy: 0.7463 - val_loss: 1.2612 - val_accuracy: 0.6444\n",
      "Epoch 46/100\n",
      "27300/27300 [==============================] - 57s 2ms/sample - loss: 0.9683 - accuracy: 0.7461 - val_loss: 1.2631 - val_accuracy: 0.6412\n",
      "Epoch 47/100\n",
      "27300/27300 [==============================] - 58s 2ms/sample - loss: 0.9655 - accuracy: 0.7461 - val_loss: 1.2627 - val_accuracy: 0.6386\n",
      "Epoch 48/100\n",
      "27300/27300 [==============================] - 59s 2ms/sample - loss: 0.9606 - accuracy: 0.7486 - val_loss: 1.2729 - val_accuracy: 0.6352\n",
      "Epoch 49/100\n",
      "27300/27300 [==============================] - 59s 2ms/sample - loss: 0.9640 - accuracy: 0.7477 - val_loss: 1.2715 - val_accuracy: 0.6333\n",
      "Epoch 50/100\n",
      "27300/27300 [==============================] - 59s 2ms/sample - loss: 0.9521 - accuracy: 0.7524 - val_loss: 1.2738 - val_accuracy: 0.6343\n",
      "Epoch 51/100\n",
      "27300/27300 [==============================] - 58s 2ms/sample - loss: 0.9515 - accuracy: 0.7511 - val_loss: 1.2686 - val_accuracy: 0.6346\n",
      "Epoch 52/100\n",
      "27300/27300 [==============================] - 60s 2ms/sample - loss: 0.9420 - accuracy: 0.7530 - val_loss: 1.2724 - val_accuracy: 0.6346\n",
      "Epoch 53/100\n",
      "27300/27300 [==============================] - 59s 2ms/sample - loss: 0.9420 - accuracy: 0.7561 - val_loss: 1.2674 - val_accuracy: 0.6365\n"
     ]
    },
    {
     "name": "stdout",
     "output_type": "stream",
     "text": [
      "Epoch 54/100\n",
      "27300/27300 [==============================] - 56s 2ms/sample - loss: 0.9319 - accuracy: 0.7585 - val_loss: 1.2588 - val_accuracy: 0.6404\n",
      "Epoch 55/100\n",
      "27136/27300 [============================>.] - ETA: 0s - loss: 0.9389 - accuracy: 0.7590\n",
      "Epoch 00055: ReduceLROnPlateau reducing learning rate to 0.0002500000118743628.\n",
      "27300/27300 [==============================] - 57s 2ms/sample - loss: 0.9386 - accuracy: 0.7592 - val_loss: 1.2628 - val_accuracy: 0.6446\n",
      "Epoch 56/100\n",
      "27300/27300 [==============================] - 56s 2ms/sample - loss: 0.9242 - accuracy: 0.7607 - val_loss: 1.2527 - val_accuracy: 0.6462\n",
      "Epoch 57/100\n",
      "27300/27300 [==============================] - 57s 2ms/sample - loss: 0.9127 - accuracy: 0.7664 - val_loss: 1.2617 - val_accuracy: 0.6403\n",
      "Epoch 58/100\n",
      "27300/27300 [==============================] - 57s 2ms/sample - loss: 0.9073 - accuracy: 0.7685 - val_loss: 1.2721 - val_accuracy: 0.6370\n",
      "Epoch 59/100\n",
      "27300/27300 [==============================] - 57s 2ms/sample - loss: 0.9096 - accuracy: 0.7655 - val_loss: 1.2530 - val_accuracy: 0.6456\n",
      "Epoch 60/100\n",
      "27300/27300 [==============================] - 57s 2ms/sample - loss: 0.9067 - accuracy: 0.7666 - val_loss: 1.2667 - val_accuracy: 0.6362\n",
      "Epoch 61/100\n",
      "27300/27300 [==============================] - 58s 2ms/sample - loss: 0.8996 - accuracy: 0.7693 - val_loss: 1.2626 - val_accuracy: 0.6396\n",
      "Epoch 62/100\n",
      "27300/27300 [==============================] - 57s 2ms/sample - loss: 0.8964 - accuracy: 0.7714 - val_loss: 1.2629 - val_accuracy: 0.6397\n",
      "Epoch 63/100\n",
      "27300/27300 [==============================] - 57s 2ms/sample - loss: 0.9030 - accuracy: 0.7678 - val_loss: 1.2781 - val_accuracy: 0.6365\n",
      "Epoch 64/100\n",
      "27300/27300 [==============================] - 57s 2ms/sample - loss: 0.8940 - accuracy: 0.7719 - val_loss: 1.2715 - val_accuracy: 0.6389\n",
      "Epoch 65/100\n",
      "27136/27300 [============================>.] - ETA: 0s - loss: 0.8922 - accuracy: 0.7701\n",
      "Epoch 00065: ReduceLROnPlateau reducing learning rate to 0.0001250000059371814.\n",
      "27300/27300 [==============================] - 69s 3ms/sample - loss: 0.8920 - accuracy: 0.7703 - val_loss: 1.2588 - val_accuracy: 0.6420\n",
      "Epoch 66/100\n",
      "27300/27300 [==============================] - 62s 2ms/sample - loss: 0.8893 - accuracy: 0.7734 - val_loss: 1.2593 - val_accuracy: 0.6408\n",
      "Epoch 67/100\n",
      "27300/27300 [==============================] - 64s 2ms/sample - loss: 0.8904 - accuracy: 0.7708 - val_loss: 1.2518 - val_accuracy: 0.6438\n",
      "Epoch 68/100\n",
      "27300/27300 [==============================] - 74s 3ms/sample - loss: 0.8848 - accuracy: 0.7765 - val_loss: 1.2581 - val_accuracy: 0.6445\n",
      "Epoch 69/100\n",
      "27300/27300 [==============================] - 64s 2ms/sample - loss: 0.8804 - accuracy: 0.7772 - val_loss: 1.2622 - val_accuracy: 0.6411\n",
      "Epoch 70/100\n",
      "27300/27300 [==============================] - 73s 3ms/sample - loss: 0.8751 - accuracy: 0.7794 - val_loss: 1.2618 - val_accuracy: 0.6425\n",
      "Epoch 71/100\n",
      "27300/27300 [==============================] - 61s 2ms/sample - loss: 0.8767 - accuracy: 0.7793 - val_loss: 1.2596 - val_accuracy: 0.6406\n",
      "Epoch 72/100\n",
      "27300/27300 [==============================] - 62s 2ms/sample - loss: 0.8754 - accuracy: 0.7767 - val_loss: 1.2598 - val_accuracy: 0.6426\n",
      "Epoch 73/100\n",
      "27300/27300 [==============================] - 63s 2ms/sample - loss: 0.8724 - accuracy: 0.7790 - val_loss: 1.2544 - val_accuracy: 0.6455\n",
      "Epoch 74/100\n",
      "27300/27300 [==============================] - 60s 2ms/sample - loss: 0.8763 - accuracy: 0.7795 - val_loss: 1.2621 - val_accuracy: 0.6421\n",
      "Epoch 75/100\n",
      "27136/27300 [============================>.] - ETA: 0s - loss: 0.8727 - accuracy: 0.7813\n",
      "Epoch 00075: ReduceLROnPlateau reducing learning rate to 6.25000029685907e-05.\n",
      "27300/27300 [==============================] - 62s 2ms/sample - loss: 0.8733 - accuracy: 0.7810 - val_loss: 1.2638 - val_accuracy: 0.6391\n",
      "Epoch 76/100\n",
      "27300/27300 [==============================] - 66s 2ms/sample - loss: 0.8645 - accuracy: 0.7834 - val_loss: 1.2599 - val_accuracy: 0.6414\n",
      "Epoch 77/100\n",
      "27300/27300 [==============================] - 64s 2ms/sample - loss: 0.8656 - accuracy: 0.7828 - val_loss: 1.2584 - val_accuracy: 0.6458\n",
      "Epoch 78/100\n",
      "27300/27300 [==============================] - 66s 2ms/sample - loss: 0.8645 - accuracy: 0.7842 - val_loss: 1.2591 - val_accuracy: 0.6410\n",
      "Epoch 79/100\n",
      "27300/27300 [==============================] - 67s 2ms/sample - loss: 0.8675 - accuracy: 0.7803 - val_loss: 1.2569 - val_accuracy: 0.6450\n",
      "Epoch 80/100\n",
      "27300/27300 [==============================] - 69s 3ms/sample - loss: 0.8616 - accuracy: 0.7827 - val_loss: 1.2591 - val_accuracy: 0.6427\n",
      "Epoch 81/100\n",
      "27300/27300 [==============================] - 67s 2ms/sample - loss: 0.8639 - accuracy: 0.7822 - val_loss: 1.2596 - val_accuracy: 0.6424\n",
      "Epoch 82/100\n",
      "27300/27300 [==============================] - 65s 2ms/sample - loss: 0.8641 - accuracy: 0.7862 - val_loss: 1.2595 - val_accuracy: 0.6412\n",
      "Epoch 83/100\n",
      "27300/27300 [==============================] - 62s 2ms/sample - loss: 0.8586 - accuracy: 0.7857 - val_loss: 1.2579 - val_accuracy: 0.6443\n",
      "Epoch 84/100\n",
      "27300/27300 [==============================] - 65s 2ms/sample - loss: 0.8609 - accuracy: 0.7863 - val_loss: 1.2606 - val_accuracy: 0.6415\n",
      "Epoch 85/100\n",
      "27136/27300 [============================>.] - ETA: 0s - loss: 0.8635 - accuracy: 0.7826\n",
      "Epoch 00085: ReduceLROnPlateau reducing learning rate to 3.125000148429535e-05.\n",
      "27300/27300 [==============================] - 67s 2ms/sample - loss: 0.8641 - accuracy: 0.7827 - val_loss: 1.2561 - val_accuracy: 0.6432\n",
      "Epoch 86/100\n",
      "27300/27300 [==============================] - 65s 2ms/sample - loss: 0.8604 - accuracy: 0.7841 - val_loss: 1.2579 - val_accuracy: 0.6425\n",
      "Epoch 87/100\n",
      "27300/27300 [==============================] - 66s 2ms/sample - loss: 0.8545 - accuracy: 0.7834 - val_loss: 1.2600 - val_accuracy: 0.6418\n",
      "Epoch 88/100\n",
      "27300/27300 [==============================] - 67s 2ms/sample - loss: 0.8566 - accuracy: 0.7840 - val_loss: 1.2579 - val_accuracy: 0.6422\n",
      "Epoch 89/100\n",
      "27300/27300 [==============================] - 68s 2ms/sample - loss: 0.8549 - accuracy: 0.7840 - val_loss: 1.2593 - val_accuracy: 0.6439\n",
      "Epoch 90/100\n",
      "27300/27300 [==============================] - 76s 3ms/sample - loss: 0.8525 - accuracy: 0.7859 - val_loss: 1.2606 - val_accuracy: 0.6433\n",
      "Epoch 91/100\n",
      "27300/27300 [==============================] - 76s 3ms/sample - loss: 0.8561 - accuracy: 0.7851 - val_loss: 1.2587 - val_accuracy: 0.6435\n",
      "Epoch 92/100\n",
      "27300/27300 [==============================] - 70s 3ms/sample - loss: 0.8526 - accuracy: 0.7849 - val_loss: 1.2587 - val_accuracy: 0.6430\n",
      "Epoch 93/100\n",
      "27300/27300 [==============================] - 64s 2ms/sample - loss: 0.8565 - accuracy: 0.7825 - val_loss: 1.2609 - val_accuracy: 0.6409\n",
      "Epoch 94/100\n",
      "27300/27300 [==============================] - 70s 3ms/sample - loss: 0.8493 - accuracy: 0.7861 - val_loss: 1.2573 - val_accuracy: 0.6439\n",
      "Epoch 95/100\n",
      "27136/27300 [============================>.] - ETA: 0s - loss: 0.8558 - accuracy: 0.7846\n",
      "Epoch 00095: ReduceLROnPlateau reducing learning rate to 1.5625000742147677e-05.\n",
      "27300/27300 [==============================] - 74s 3ms/sample - loss: 0.8562 - accuracy: 0.7844 - val_loss: 1.2590 - val_accuracy: 0.6429\n",
      "Epoch 96/100\n",
      "27300/27300 [==============================] - 71s 3ms/sample - loss: 0.8551 - accuracy: 0.7834 - val_loss: 1.2587 - val_accuracy: 0.6432\n",
      "Epoch 97/100\n",
      "27300/27300 [==============================] - 63s 2ms/sample - loss: 0.8496 - accuracy: 0.7858 - val_loss: 1.2587 - val_accuracy: 0.6433\n",
      "Epoch 98/100\n",
      "27300/27300 [==============================] - 71s 3ms/sample - loss: 0.8532 - accuracy: 0.7846 - val_loss: 1.2582 - val_accuracy: 0.6433\n",
      "Epoch 99/100\n",
      "27300/27300 [==============================] - 65s 2ms/sample - loss: 0.8563 - accuracy: 0.7852 - val_loss: 1.2567 - val_accuracy: 0.6429\n",
      "Epoch 100/100\n",
      "27300/27300 [==============================] - 62s 2ms/sample - loss: 0.8549 - accuracy: 0.7859 - val_loss: 1.2572 - val_accuracy: 0.6432\n"
     ]
    }
   ],
   "source": [
    "model.compile(loss=tf.keras.losses.categorical_crossentropy,\n",
    "              optimizer=tf.keras.optimizers.Adam(),\n",
    "              metrics=['accuracy'])\n",
    "reduce_lr = ReduceLROnPlateau(\n",
    "                monitor='val_accuracy', factor=0.5, patience=10, min_delta=0.01,\n",
    "                verbose=1\n",
    "            )\n",
    "hist = model.fit(X_train, y_train, batch_size=256, epochs=100,#EPOCH_COUNT,\n",
    "                        validation_data=(X_test, y_test), verbose=1, callbacks=[reduce_lr,WeightsSaver(10)])\n"
   ]
  },
  {
   "cell_type": "code",
   "execution_count": 40,
   "metadata": {},
   "outputs": [
    {
     "name": "stdout",
     "output_type": "stream",
     "text": [
      "val_loss = 1.257 and val_acc = 0.643\n"
     ]
    }
   ],
   "source": [
    "score = model.evaluate(X_test, y_test, verbose=0)\n",
    "print(\"val_loss = {:.3f} and val_acc = {:.3f}\".format(score[0], score[1]))"
   ]
  },
  {
   "cell_type": "code",
   "execution_count": 42,
   "metadata": {},
   "outputs": [
    {
     "data": {
      "image/png": "[encoded data removed]",
      "text/plain": [
       "<Figure size 1080x504 with 2 Axes>"
      ]
     },
     "metadata": {
      "needs_background": "light"
     },
     "output_type": "display_data"
    }
   ],
   "source": [
    "plt.figure(figsize=(15,7))\n",
    "\n",
    "plt.subplot(1,2,1)\n",
    "plt.plot(hist.history['accuracy'], label='train')\n",
    "plt.plot(hist.history['val_accuracy'], label='validation')\n",
    "plt.title('Accuracy')\n",
    "plt.xlabel('Epochs')\n",
    "plt.ylabel('Accuracy')\n",
    "plt.legend()\n",
    "\n",
    "plt.subplot(1,2,2)\n",
    "plt.plot(hist.history['loss'], label='train')\n",
    "plt.plot(hist.history['val_loss'], label='validation')\n",
    "plt.title('Loss')\n",
    "plt.xlabel('Epochs')\n",
    "plt.ylabel('Loss')\n",
    "plt.legend()\n",
    "\n",
    "plt.tight_layout()\n",
    "plt.show()"
   ]
  },
  {
   "cell_type": "code",
   "execution_count": 43,
   "metadata": {},
   "outputs": [],
   "source": [
    "#http://scikit-learn.org/stable/auto_examples/model_selection/plot_confusion_matrix.html\n",
    "def plot_confusion_matrix(cm, classes,\n",
    "                          normalize=False,\n",
    "                          title='Confusion matrix',\n",
    "                          cmap=plt.cm.Blues):\n",
    "    \"\"\"\n",
    "    This function prints and plots the confusion matrix.\n",
    "    Normalization can be applied by setting `normalize=True`.\n",
    "    \"\"\"\n",
    "    if normalize:\n",
    "        cm = cm.astype('float') / cm.sum(axis=1)[:, np.newaxis]\n",
    "        print(\"Normalized confusion matrix\")\n",
    "    else:\n",
    "        print('Confusion matrix, without normalization')\n",
    "\n",
    "    plt.imshow(cm, interpolation='nearest', cmap=cmap)\n",
    "    plt.title(title)\n",
    "    plt.colorbar()\n",
    "    tick_marks = np.arange(len(classes))\n",
    "    plt.xticks(tick_marks, classes, rotation=45)\n",
    "    plt.yticks(tick_marks, classes)\n",
    "\n",
    "    fmt = '.2f' if normalize else 'd'\n",
    "    thresh = cm.max() / 2.\n",
    "    for i, j in itertools.product(range(cm.shape[0]), range(cm.shape[1])):\n",
    "        plt.text(j, i, format(cm[i, j], fmt),\n",
    "                 horizontalalignment=\"center\",\n",
    "                 color=\"white\" if cm[i, j] > thresh else \"black\")\n",
    "\n",
    "    plt.tight_layout()\n",
    "    plt.ylabel('True label')\n",
    "    plt.xlabel('Predicted label')"
   ]
  },
  {
   "cell_type": "code",
   "execution_count": 44,
   "metadata": {},
   "outputs": [],
   "source": [
    "preds = np.argmax(model.predict(X_test), axis = 1)\n",
    "y_orig = np.argmax(y_test, axis = 1)\n",
    "cm = confusion_matrix(preds, y_orig)"
   ]
  },
  {
   "cell_type": "code",
   "execution_count": 46,
   "metadata": {},
   "outputs": [
    {
     "name": "stdout",
     "output_type": "stream",
     "text": [
      "Normalized confusion matrix\n"
     ]
    },
    {
     "data": {
      "image/png": "[encoded data removed]",
      "text/plain": [
       "<Figure size 720x720 with 2 Axes>"
      ]
     },
     "metadata": {
      "needs_background": "light"
     },
     "output_type": "display_data"
    }
   ],
   "source": [
    "keys = OrderedDict(sorted(genres.items(), key=lambda t: t[1])).keys()\n",
    "\n",
    "plt.figure(figsize=(10,10))\n",
    "plot_confusion_matrix(cm, keys, normalize=True)"
   ]
  },
  {
   "cell_type": "markdown",
   "metadata": {},
   "source": [
    "## Majority Vote"
   ]
  },
  {
   "cell_type": "code",
   "execution_count": 47,
   "metadata": {},
   "outputs": [],
   "source": [
    "def majority_vote(scores):\n",
    "    values, counts = np.unique(scores,return_counts=True)\n",
    "    ind = np.argmax(counts)\n",
    "    return values[ind]"
   ]
  },
  {
   "cell_type": "code",
   "execution_count": 48,
   "metadata": {},
   "outputs": [],
   "source": [
    "preds = model.predict(X_test, batch_size=128, verbose=0)"
   ]
  },
  {
   "cell_type": "code",
   "execution_count": 49,
   "metadata": {},
   "outputs": [],
   "source": [
    "# Each sound was divided into 39 segments in our custom function\n",
    "scores_songs = np.split(np.argmax(preds, axis=1), 300)\n",
    "scores_songs = [majority_vote(scores) for scores in scores_songs]"
   ]
  },
  {
   "cell_type": "code",
   "execution_count": 50,
   "metadata": {},
   "outputs": [],
   "source": [
    "# Same analysis for split\n",
    "label = np.split(np.argmax(y_test, axis=1), 300)\n",
    "label = [majority_vote(l) for l in label]"
   ]
  },
  {
   "cell_type": "code",
   "execution_count": 51,
   "metadata": {},
   "outputs": [
    {
     "name": "stdout",
     "output_type": "stream",
     "text": [
      "majority voting system (acc) = 0.757\n"
     ]
    }
   ],
   "source": [
    "from sklearn.metrics import accuracy_score\n",
    "\n",
    "print(\"majority voting system (acc) = {:.3f}\".format(accuracy_score(label, scores_songs)))"
   ]
  },
  {
   "cell_type": "markdown",
   "metadata": {},
   "source": [
    "Compared to the classical approach, we are winning now!\n",
    "\n",
    "We passed from a 78.8% accuracy to **82%**. It is not a great improvement but this is a really simple architecture."
   ]
  },
  {
   "cell_type": "markdown",
   "metadata": {},
   "source": [
    "## Save the model"
   ]
  },
  {
   "cell_type": "code",
   "execution_count": 52,
   "metadata": {},
   "outputs": [],
   "source": [
    "# Save the model\n",
    "model.save('../models/cnn_gru_final.h5')"
   ]
  },
  {
   "cell_type": "code",
   "execution_count": 53,
   "metadata": {},
   "outputs": [
    {
     "name": "stdout",
     "output_type": "stream",
     "text": [
      "Failed to import pydot. You must install pydot and graphviz for `pydotprint` to work.\n"
     ]
    }
   ],
   "source": [
    "from tensorflow.keras.utils import plot_model\n",
    "plot_model(model, to_file='model_cnn_gru.png')"
   ]
  },
  {
   "cell_type": "code",
   "execution_count": null,
   "metadata": {},
   "outputs": [],
   "source": []
  },
  {
   "cell_type": "code",
   "execution_count": null,
   "metadata": {},
   "outputs": [],
   "source": []
  }
 ],
 "metadata": {
  "kernelspec": {
   "display_name": "Python 3",
   "language": "python",
   "name": "python3"
  },
  "language_info": {
   "codemirror_mode": {
    "name": "ipython",
    "version": 3
   },
   "file_extension": ".py",
   "mimetype": "text/x-python",
   "name": "python",
   "nbconvert_exporter": "python",
   "pygments_lexer": "ipython3",
   "version": "3.7.6"
  }
 },
 "nbformat": 4,
 "nbformat_minor": 2
}
